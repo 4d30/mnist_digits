{
 "cells": [
  {
   "cell_type": "code",
   "execution_count": 168,
   "metadata": {},
   "outputs": [],
   "source": [
    "#import pandas as pd\n",
    "import numpy as np\n",
    "import sys\n",
    "from multiprocessing import Process, Pipe\n",
    "from sklearn.model_selection import train_test_split\n",
    "from sklearn.preprocessing import normalize\n",
    "from random import shuffle\n",
    "from os import cpu_count"
   ]
  },
  {
   "cell_type": "code",
   "execution_count": 2,
   "metadata": {},
   "outputs": [
    {
     "name": "stdout",
     "output_type": "stream",
     "text": [
      "Input:\n",
      "Shape:(42000, 784)\n",
      "[[0 0 0 0 0]\n",
      " [0 0 0 0 0]\n",
      " [0 0 0 0 0]\n",
      " [0 0 0 0 0]\n",
      " [0 0 0 0 0]]\n",
      "\n",
      "Output:\n",
      "Shape:(42000,)\n",
      "[1 0 1 ... 7 6 9]\n",
      "\n"
     ]
    }
   ],
   "source": [
    "try:\n",
    "    with open('./input/inputs.npy',\"rb\") as f:\n",
    "        inputs = np.load(f)\n",
    "    with open('./input/outputs.npy',\"rb\") as f:\n",
    "        outputs = np.load(f)\n",
    "        \n",
    "except:\n",
    "    data = np.genfromtxt('./input/train.csv', delimiter=',',skip_header=1,dtype=np.uint8)\n",
    "    inputs = data[:,1:]\n",
    "    outputs = data[:,0]\n",
    "    np.save('./input/inputs.npy',inputs)\n",
    "    np.save('./input/outputs.npy',outputs)\n",
    "print(f'Input:\\nShape:{inputs.shape}\\n{inputs[:5,:5]}\\n')\n",
    "print(f'Output:\\nShape:{outputs.shape}\\n{outputs}\\n')"
   ]
  },
  {
   "cell_type": "code",
   "execution_count": 3,
   "metadata": {},
   "outputs": [],
   "source": [
    "def onehot(ARRAY):\n",
    "    return np.eye(10)[ARRAY].astype(np.uint8).T"
   ]
  },
  {
   "cell_type": "code",
   "execution_count": 4,
   "metadata": {},
   "outputs": [],
   "source": [
    "inputs = normalize(inputs)\n",
    "X_train, X_test, y_train, y_test = train_test_split(inputs,outputs,test_size = 0.95)\n",
    "\n",
    "X_train = X_train.T\n",
    "y_train_hot = onehot(y_train)\n",
    "\n",
    "l_dim = np.array([X_train.shape[0],485,299,185,114,71,44,27,17,10], dtype = np.uint16)\n",
    "w = [int]*(len(l_dim)+1)\n",
    "b = [int]*(len(l_dim)+1)"
   ]
  },
  {
   "cell_type": "code",
   "execution_count": 278,
   "metadata": {},
   "outputs": [],
   "source": [
    "def sigmoid(X):\n",
    "    return np.exp(X)/(1 + np.exp(X))\n",
    "\n",
    "def sigprime(X):\n",
    "    return np.exp(X)/np.power(1 + np.exp(X),2)\n",
    "\n",
    "def initialize_wb(LAYERS):\n",
    "    for i in range(0,len(LAYERS)-1):\n",
    "        w[i] = np.array(np.random.random((LAYERS[i+1],LAYERS[i])), dtype=np.float128)\n",
    "        b[i]  = np.zeros((LAYERS[i+1],1), dtype=np.float16)\n",
    "    return w, b\n",
    "\n",
    "def feedforward(W,X,B):\n",
    "    return normalize(sigmoid(np.dot(W,X) + B))\n",
    "\n",
    "def costfunction(PRED,TRUE):\n",
    "    return 1/2*np.sum(np.power(np.subtract(PRED,TRUE),2))\n",
    "\n",
    "def backprop(WA, WB, LA, LB, LB_TRUE, BB): #Layer A calculates Layer B\n",
    "    # NewWeight = OldWeight - Strength*dC/dw\n",
    "    S = 1\n",
    "    z = np.dot(WB,LA) + BB\n",
    "    #dC/dw\n",
    "    derivative = 2*(LB - LB_TRUE)*sigprime(z)*LA\n",
    "    neweights = WB - S*derivative\n",
    "    print(WA.shape)\n",
    "    return newweights"
   ]
  },
  {
   "cell_type": "code",
   "execution_count": 281,
   "metadata": {},
   "outputs": [
    {
     "data": {
      "text/plain": [
       "(10, 2100)"
      ]
     },
     "execution_count": 281,
     "metadata": {},
     "output_type": "execute_result"
    }
   ],
   "source": [
    "layers[8].shape"
   ]
  },
  {
   "cell_type": "code",
   "execution_count": 280,
   "metadata": {},
   "outputs": [
    {
     "ename": "ValueError",
     "evalue": "operands could not be broadcast together with shapes (10,2100) (17,2100) ",
     "output_type": "error",
     "traceback": [
      "\u001b[0;31m---------------------------------------------------------------------------\u001b[0m",
      "\u001b[0;31mValueError\u001b[0m                                Traceback (most recent call last)",
      "\u001b[0;32m<ipython-input-280-d235304ab098>\u001b[0m in \u001b[0;36m<module>\u001b[0;34m\u001b[0m\n\u001b[1;32m      2\u001b[0m \u001b[0;31m#print(w[8].shape)\u001b[0m\u001b[0;34m\u001b[0m\u001b[0;34m\u001b[0m\u001b[0;34m\u001b[0m\u001b[0m\n\u001b[1;32m      3\u001b[0m \u001b[0;31m#(w[8] - np.average((np.dot(w[7],layers[6]) - y_train),axis=1))\u001b[0m\u001b[0;34m\u001b[0m\u001b[0;34m\u001b[0m\u001b[0;34m\u001b[0m\u001b[0m\n\u001b[0;32m----> 4\u001b[0;31m \u001b[0mbackprop\u001b[0m\u001b[0;34m(\u001b[0m\u001b[0mw\u001b[0m\u001b[0;34m[\u001b[0m\u001b[0;36m7\u001b[0m\u001b[0;34m]\u001b[0m\u001b[0;34m,\u001b[0m\u001b[0mw\u001b[0m\u001b[0;34m[\u001b[0m\u001b[0;36m8\u001b[0m\u001b[0;34m]\u001b[0m\u001b[0;34m,\u001b[0m\u001b[0mlayers\u001b[0m\u001b[0;34m[\u001b[0m\u001b[0;36m7\u001b[0m\u001b[0;34m]\u001b[0m\u001b[0;34m,\u001b[0m\u001b[0mlayers\u001b[0m\u001b[0;34m[\u001b[0m\u001b[0;36m8\u001b[0m\u001b[0;34m]\u001b[0m\u001b[0;34m,\u001b[0m\u001b[0my_train\u001b[0m\u001b[0;34m,\u001b[0m\u001b[0mb\u001b[0m\u001b[0;34m[\u001b[0m\u001b[0;36m8\u001b[0m\u001b[0;34m]\u001b[0m\u001b[0;34m)\u001b[0m\u001b[0;34m\u001b[0m\u001b[0;34m\u001b[0m\u001b[0m\n\u001b[0m",
      "\u001b[0;32m<ipython-input-278-e05accf088a8>\u001b[0m in \u001b[0;36mbackprop\u001b[0;34m(WA, WB, LA, LB, LB_TRUE, BB)\u001b[0m\n\u001b[1;32m     22\u001b[0m     \u001b[0mz\u001b[0m \u001b[0;34m=\u001b[0m \u001b[0mnp\u001b[0m\u001b[0;34m.\u001b[0m\u001b[0mdot\u001b[0m\u001b[0;34m(\u001b[0m\u001b[0mWB\u001b[0m\u001b[0;34m,\u001b[0m\u001b[0mLA\u001b[0m\u001b[0;34m)\u001b[0m \u001b[0;34m+\u001b[0m \u001b[0mBB\u001b[0m\u001b[0;34m\u001b[0m\u001b[0;34m\u001b[0m\u001b[0m\n\u001b[1;32m     23\u001b[0m     \u001b[0;31m#dC/dw\u001b[0m\u001b[0;34m\u001b[0m\u001b[0;34m\u001b[0m\u001b[0;34m\u001b[0m\u001b[0m\n\u001b[0;32m---> 24\u001b[0;31m     \u001b[0mderivative\u001b[0m \u001b[0;34m=\u001b[0m \u001b[0;36m2\u001b[0m\u001b[0;34m*\u001b[0m\u001b[0;34m(\u001b[0m\u001b[0mLB\u001b[0m \u001b[0;34m-\u001b[0m \u001b[0mLB_TRUE\u001b[0m\u001b[0;34m)\u001b[0m\u001b[0;34m*\u001b[0m\u001b[0msigprime\u001b[0m\u001b[0;34m(\u001b[0m\u001b[0mz\u001b[0m\u001b[0;34m)\u001b[0m\u001b[0;34m*\u001b[0m\u001b[0mLA\u001b[0m\u001b[0;34m\u001b[0m\u001b[0;34m\u001b[0m\u001b[0m\n\u001b[0m\u001b[1;32m     25\u001b[0m     \u001b[0mneweights\u001b[0m \u001b[0;34m=\u001b[0m \u001b[0mWB\u001b[0m \u001b[0;34m-\u001b[0m \u001b[0mS\u001b[0m\u001b[0;34m*\u001b[0m\u001b[0mderivative\u001b[0m\u001b[0;34m\u001b[0m\u001b[0;34m\u001b[0m\u001b[0m\n\u001b[1;32m     26\u001b[0m     \u001b[0mprint\u001b[0m\u001b[0;34m(\u001b[0m\u001b[0mWA\u001b[0m\u001b[0;34m.\u001b[0m\u001b[0mshape\u001b[0m\u001b[0;34m)\u001b[0m\u001b[0;34m\u001b[0m\u001b[0;34m\u001b[0m\u001b[0m\n",
      "\u001b[0;31mValueError\u001b[0m: operands could not be broadcast together with shapes (10,2100) (17,2100) "
     ]
    }
   ],
   "source": [
    "#np.average((np.dot(w[7],layers[6]) - y_train),axis=1).shape\n",
    "#print(w[8].shape)\n",
    "#(w[8] - np.average((np.dot(w[7],layers[6]) - y_train),axis=1))\n",
    "#backprop(w[7],w[8],layers[7],layers[8],y_train,b[8])"
   ]
  },
  {
   "cell_type": "code",
   "execution_count": 217,
   "metadata": {},
   "outputs": [
    {
     "name": "stdout",
     "output_type": "stream",
     "text": [
      "[0.50012567 0.90906139 0.68327564 0.74803134 0.99534114 0.22028091\n",
      " 0.47513246 0.40736243 0.49415167 0.25388683]\n",
      "[0.79637706 0.02299958 0.66891725 0.30704816 0.68049157 0.14000174\n",
      " 0.48736809 0.20919174 0.33618122 0.73571788]\n",
      "[0.08806844 0.33915092 0.18988858 0.82931465 0.48607477 0.86454918\n",
      " 0.57602141 0.94428312 0.27769796 0.26633072]\n",
      "[0.83233463 0.31266737 0.59785971 0.51607987 0.74082653 0.75537495\n",
      " 0.06651911 0.31722249 0.36726151 0.1841184 ]\n",
      "[0.6227641  0.18150732 0.404347   0.17862747 0.53445847 0.78281584\n",
      " 0.26511397 0.47032699 0.53797666 0.27489798]\n",
      "[0.99806897 0.02274723 0.05306573 0.54251795 0.72547596 0.82045725\n",
      " 0.86948974 0.79745073 0.74657598 0.94218762]\n",
      "[0.00297068 0.24530665 0.06952082 0.16911954 0.21831272 0.79571182\n",
      " 0.06294608 0.32522796 0.65852453 0.70271382]\n",
      "[0.43476152 0.64681979 0.49735545 0.74236573 0.58188057 0.75486577\n",
      " 0.42648977 0.57683366 0.55268934 0.60621237]\n",
      "[0.11256105 0.50399949 0.34202843 0.31286847 0.54727588 0.59948736\n",
      " 0.25994255 0.61784567 0.01534705 0.2335989 ]\n",
      "[0.73106489 0.93501923 0.20315262 0.11342178 0.83507955 0.82935082\n",
      " 0.45180236 0.52720996 0.24647894 0.56075553]\n",
      "[0.73680679 0.5538464  0.30090859 0.13442263 0.03889912 0.07161324\n",
      " 0.68169922 0.16699873 0.55522578 0.40435841]\n",
      "[0.8583494  0.15947755 0.30050063 0.64713916 0.16195267 0.44733706\n",
      " 0.98364092 0.32634027 0.39882753 0.59741685]\n",
      "[0.49170657 0.95593354 0.96599017 0.61405505 0.59802262 0.99758879\n",
      " 0.24913662 0.36213436 0.06653782 0.01532326]\n",
      "[0.4966817  0.15341081 0.22159059 0.50604258 0.71331002 0.20439728\n",
      " 0.57686283 0.42380606 0.56842157 0.42815716]\n",
      "[7.67594294e-01 8.96861222e-01 5.51019174e-02 1.30772808e-01\n",
      " 3.66987504e-04 8.38438935e-01 5.91806393e-01 3.34629337e-01\n",
      " 7.39744976e-02 3.00970374e-02]\n",
      "[0.10500373 0.7186703  0.7677455  0.64317519 0.92692846 0.96202565\n",
      " 0.63141835 0.59748328 0.72978547 0.10195725]\n",
      "[0.20507924 0.25890663 0.61950113 0.5944309  0.52855654 0.25262541\n",
      " 0.77470858 0.57811971 0.09520222 0.02205051]\n"
     ]
    },
    {
     "data": {
      "text/plain": [
       "array([-0.34267532, -0.28363217,  0.08170846,  0.05236307, -0.02207727,\n",
       "       -0.30352922,  0.22884788,  0.03468156, -0.44139749, -0.51258936],\n",
       "      dtype=float128)"
      ]
     },
     "execution_count": 217,
     "metadata": {},
     "output_type": "execute_result"
    }
   ],
   "source": [
    "for i in range(0,17):  \n",
    "    print(w[8][:,i])\n",
    "    newweights = w[8][:,i] - np.average(sigmoid(np.dot(w[8],layers[7])),axis=1)\n",
    "\n",
    "newweights"
   ]
  },
  {
   "cell_type": "code",
   "execution_count": 216,
   "metadata": {},
   "outputs": [
    {
     "name": "stdout",
     "output_type": "stream",
     "text": [
      "(485, 2100)\n",
      "(299, 2100)\n",
      "(185, 2100)\n",
      "(114, 2100)\n",
      "(71, 2100)\n",
      "(44, 2100)\n",
      "(27, 2100)\n",
      "(17, 2100)\n",
      "(10, 2100)\n",
      "28319.5725712473\n"
     ]
    }
   ],
   "source": [
    "w, b = initialize_wb(l_dim)\n",
    "layers = []\n",
    "layer = X_train\n",
    "for i in range(0,len(l_dim)-1):\n",
    "    sys.stdout.write(f'{i}\\r')\n",
    "    newlayer = feedforward(w[i],layer,b[i])\n",
    "    print(newlayer.shape)\n",
    "    layers.append(newlayer)\n",
    "    layer = newlayer\n",
    "print(costfunction(layer[8],y_train))"
   ]
  },
  {
   "cell_type": "code",
   "execution_count": 37,
   "metadata": {},
   "outputs": [
    {
     "name": "stdout",
     "output_type": "stream",
     "text": [
      "(2100,)\n",
      "(2100,)\n"
     ]
    }
   ],
   "source": [
    "print(f'{layer[9].shape}')\n",
    "print(f'{y_train.shape}')"
   ]
  },
  {
   "cell_type": "code",
   "execution_count": 14,
   "metadata": {},
   "outputs": [
    {
     "name": "stdout",
     "output_type": "stream",
     "text": [
      "(485, 2100)\n",
      "(299, 2100)\n",
      "(185, 2100)\n",
      "(114, 2100)\n",
      "(71, 2100)\n",
      "(44, 2100)\n",
      "(27, 2100)\n",
      "(17, 2100)\n",
      "(10, 2100)\n"
     ]
    }
   ],
   "source": [
    "for l in layers:\n",
    "    print(l.shape)"
   ]
  },
  {
   "cell_type": "code",
   "execution_count": 17,
   "metadata": {
    "scrolled": true
   },
   "outputs": [
    {
     "ename": "ValueError",
     "evalue": "shapes (17,27) and (2100,) not aligned: 27 (dim 1) != 2100 (dim 0)",
     "output_type": "error",
     "traceback": [
      "\u001b[0;31m---------------------------------------------------------------------------\u001b[0m",
      "\u001b[0;31mValueError\u001b[0m                                Traceback (most recent call last)",
      "\u001b[0;32m<ipython-input-17-5a2a1927c76e>\u001b[0m in \u001b[0;36m<module>\u001b[0;34m\u001b[0m\n\u001b[0;32m----> 1\u001b[0;31m \u001b[0mbackprop\u001b[0m\u001b[0;34m(\u001b[0m\u001b[0mw\u001b[0m\u001b[0;34m[\u001b[0m\u001b[0;36m7\u001b[0m\u001b[0;34m]\u001b[0m\u001b[0;34m,\u001b[0m\u001b[0mlayer\u001b[0m\u001b[0;34m[\u001b[0m\u001b[0;36m7\u001b[0m\u001b[0;34m]\u001b[0m\u001b[0;34m,\u001b[0m\u001b[0mlayer\u001b[0m\u001b[0;34m[\u001b[0m\u001b[0;36m8\u001b[0m\u001b[0;34m]\u001b[0m\u001b[0;34m,\u001b[0m\u001b[0my_train\u001b[0m\u001b[0;34m)\u001b[0m\u001b[0;34m\u001b[0m\u001b[0;34m\u001b[0m\u001b[0m\n\u001b[0m",
      "\u001b[0;32m<ipython-input-11-c0033fe803e3>\u001b[0m in \u001b[0;36mbackprop\u001b[0;34m(W, LA, LB, LB_TRUE)\u001b[0m\n\u001b[1;32m     19\u001b[0m \u001b[0;32mdef\u001b[0m \u001b[0mbackprop\u001b[0m\u001b[0;34m(\u001b[0m\u001b[0mW\u001b[0m\u001b[0;34m,\u001b[0m\u001b[0mLA\u001b[0m\u001b[0;34m,\u001b[0m\u001b[0mLB\u001b[0m\u001b[0;34m,\u001b[0m\u001b[0mLB_TRUE\u001b[0m\u001b[0;34m)\u001b[0m\u001b[0;34m:\u001b[0m \u001b[0;31m#Layer A calculates Layer B\u001b[0m\u001b[0;34m\u001b[0m\u001b[0;34m\u001b[0m\u001b[0m\n\u001b[1;32m     20\u001b[0m     \u001b[0mcost\u001b[0m \u001b[0;34m=\u001b[0m \u001b[0mcostfunction\u001b[0m\u001b[0;34m(\u001b[0m\u001b[0mLB\u001b[0m\u001b[0;34m,\u001b[0m\u001b[0mLB_TRUE\u001b[0m\u001b[0;34m)\u001b[0m\u001b[0;34m\u001b[0m\u001b[0;34m\u001b[0m\u001b[0m\n\u001b[0;32m---> 21\u001b[0;31m     \u001b[0mgradient\u001b[0m \u001b[0;34m=\u001b[0m \u001b[0msigprime\u001b[0m\u001b[0;34m(\u001b[0m\u001b[0mnp\u001b[0m\u001b[0;34m.\u001b[0m\u001b[0mdot\u001b[0m\u001b[0;34m(\u001b[0m\u001b[0mW\u001b[0m\u001b[0;34m,\u001b[0m\u001b[0mLA\u001b[0m\u001b[0;34m)\u001b[0m\u001b[0;34m)\u001b[0m\u001b[0;34m\u001b[0m\u001b[0;34m\u001b[0m\u001b[0m\n\u001b[0m\u001b[1;32m     22\u001b[0m     \u001b[0mprint\u001b[0m\u001b[0;34m(\u001b[0m\u001b[0mgradient\u001b[0m\u001b[0;34m.\u001b[0m\u001b[0mshape\u001b[0m\u001b[0;34m)\u001b[0m\u001b[0;34m\u001b[0m\u001b[0;34m\u001b[0m\u001b[0m\n\u001b[1;32m     23\u001b[0m     \u001b[0;31m#newweights = W - gradient\u001b[0m\u001b[0;34m\u001b[0m\u001b[0;34m\u001b[0m\u001b[0;34m\u001b[0m\u001b[0m\n",
      "\u001b[0;32m<__array_function__ internals>\u001b[0m in \u001b[0;36mdot\u001b[0;34m(*args, **kwargs)\u001b[0m\n",
      "\u001b[0;31mValueError\u001b[0m: shapes (17,27) and (2100,) not aligned: 27 (dim 1) != 2100 (dim 0)"
     ]
    }
   ],
   "source": [
    "backprop(w[7],layer[7],layer[8],y_train)"
   ]
  },
  {
   "cell_type": "code",
   "execution_count": 17,
   "metadata": {},
   "outputs": [
    {
     "data": {
      "text/plain": [
       "[array([[0.02188446, 0.02186296, 0.02197822, ..., 0.02198359, 0.02190449,\n",
       "         0.02165446],\n",
       "        [0.02187859, 0.02184836, 0.02192142, ..., 0.02191524, 0.02189598,\n",
       "         0.02168718],\n",
       "        [0.02175002, 0.02175859, 0.02199114, ..., 0.02199479, 0.02186999,\n",
       "         0.02162903],\n",
       "        ...,\n",
       "        [0.0218813 , 0.02185595, 0.02195276, ..., 0.02194159, 0.02187636,\n",
       "         0.02169529],\n",
       "        [0.02178212, 0.02175541, 0.02193507, ..., 0.02194156, 0.02190111,\n",
       "         0.02165755],\n",
       "        [0.021805  , 0.02173554, 0.02190916, ..., 0.02189457, 0.02188438,\n",
       "         0.02179981]]),\n",
       " array([[0.02182216, 0.02182137, 0.02182489, ..., 0.02182486, 0.02182368,\n",
       "         0.02181951],\n",
       "        [0.02182212, 0.02182142, 0.02182478, ..., 0.02182473, 0.02182359,\n",
       "         0.02181959],\n",
       "        [0.02182216, 0.02182142, 0.02182503, ..., 0.021825  , 0.02182372,\n",
       "         0.02181933],\n",
       "        ...,\n",
       "        [0.0218221 , 0.02182149, 0.02182433, ..., 0.0218243 , 0.02182331,\n",
       "         0.02181989],\n",
       "        [0.02182218, 0.02182136, 0.02182536, ..., 0.02182532, 0.02182393,\n",
       "         0.02181912],\n",
       "        [0.02182221, 0.02182134, 0.02182535, ..., 0.02182531, 0.02182392,\n",
       "         0.0218191 ]]),\n",
       " array([[0.02182183, 0.02182175, 0.02182214, ..., 0.02182214, 0.021822  ,\n",
       "         0.02182153],\n",
       "        [0.02182183, 0.02182174, 0.02182215, ..., 0.02182215, 0.02182201,\n",
       "         0.02182152],\n",
       "        [0.02182183, 0.02182174, 0.02182217, ..., 0.02182216, 0.02182202,\n",
       "         0.02182151],\n",
       "        ...,\n",
       "        [0.02182183, 0.02182174, 0.02182217, ..., 0.02182216, 0.02182202,\n",
       "         0.02182151],\n",
       "        [0.02182184, 0.02182174, 0.02182221, ..., 0.02182221, 0.02182204,\n",
       "         0.02182147],\n",
       "        [0.02182183, 0.02182175, 0.02182212, ..., 0.02182212, 0.02182199,\n",
       "         0.02182154]]),\n",
       " array([[0.0218218 , 0.02182178, 0.02182188, ..., 0.02182188, 0.02182184,\n",
       "         0.02182172],\n",
       "        [0.0218218 , 0.02182178, 0.02182188, ..., 0.02182188, 0.02182184,\n",
       "         0.02182172],\n",
       "        [0.0218218 , 0.02182178, 0.02182187, ..., 0.02182187, 0.02182184,\n",
       "         0.02182173],\n",
       "        ...,\n",
       "        [0.0218218 , 0.02182178, 0.02182188, ..., 0.02182188, 0.02182184,\n",
       "         0.02182172],\n",
       "        [0.0218218 , 0.02182178, 0.02182188, ..., 0.02182188, 0.02182184,\n",
       "         0.02182172],\n",
       "        [0.0218218 , 0.02182178, 0.02182187, ..., 0.02182187, 0.02182184,\n",
       "         0.02182173]]),\n",
       " array([[0.02182179, 0.02182179, 0.02182181, ..., 0.02182181, 0.0218218 ,\n",
       "         0.02182177],\n",
       "        [0.02182179, 0.02182179, 0.02182181, ..., 0.02182181, 0.0218218 ,\n",
       "         0.02182177],\n",
       "        [0.02182179, 0.02182179, 0.02182181, ..., 0.02182181, 0.0218218 ,\n",
       "         0.02182177],\n",
       "        ...,\n",
       "        [0.02182179, 0.02182179, 0.02182181, ..., 0.02182181, 0.0218218 ,\n",
       "         0.02182177],\n",
       "        [0.02182179, 0.02182179, 0.02182181, ..., 0.02182181, 0.0218218 ,\n",
       "         0.02182177],\n",
       "        [0.02182179, 0.02182179, 0.02182181, ..., 0.02182181, 0.0218218 ,\n",
       "         0.02182177]]),\n",
       " array([[0.02182179, 0.02182179, 0.0218218 , ..., 0.0218218 , 0.02182179,\n",
       "         0.02182178],\n",
       "        [0.02182179, 0.02182179, 0.02182179, ..., 0.02182179, 0.02182179,\n",
       "         0.02182178],\n",
       "        [0.02182179, 0.02182179, 0.02182179, ..., 0.02182179, 0.02182179,\n",
       "         0.02182178],\n",
       "        ...,\n",
       "        [0.02182179, 0.02182179, 0.0218218 , ..., 0.0218218 , 0.02182179,\n",
       "         0.02182178],\n",
       "        [0.02182179, 0.02182179, 0.0218218 , ..., 0.0218218 , 0.02182179,\n",
       "         0.02182178],\n",
       "        [0.02182179, 0.02182179, 0.02182179, ..., 0.02182179, 0.02182179,\n",
       "         0.02182178]]),\n",
       " array([[0.02182179, 0.02182179, 0.02182179, ..., 0.02182179, 0.02182179,\n",
       "         0.02182179],\n",
       "        [0.02182179, 0.02182179, 0.02182179, ..., 0.02182179, 0.02182179,\n",
       "         0.02182179],\n",
       "        [0.02182179, 0.02182179, 0.02182179, ..., 0.02182179, 0.02182179,\n",
       "         0.02182179],\n",
       "        ...,\n",
       "        [0.02182179, 0.02182179, 0.02182179, ..., 0.02182179, 0.02182179,\n",
       "         0.02182179],\n",
       "        [0.02182179, 0.02182179, 0.02182179, ..., 0.02182179, 0.02182179,\n",
       "         0.02182179],\n",
       "        [0.02182179, 0.02182179, 0.02182179, ..., 0.02182179, 0.02182179,\n",
       "         0.02182179]]),\n",
       " array([[0.02182179, 0.02182179, 0.02182179, ..., 0.02182179, 0.02182179,\n",
       "         0.02182179],\n",
       "        [0.02182179, 0.02182179, 0.02182179, ..., 0.02182179, 0.02182179,\n",
       "         0.02182179],\n",
       "        [0.02182179, 0.02182179, 0.02182179, ..., 0.02182179, 0.02182179,\n",
       "         0.02182179],\n",
       "        ...,\n",
       "        [0.02182179, 0.02182179, 0.02182179, ..., 0.02182179, 0.02182179,\n",
       "         0.02182179],\n",
       "        [0.02182179, 0.02182179, 0.02182179, ..., 0.02182179, 0.02182179,\n",
       "         0.02182179],\n",
       "        [0.02182179, 0.02182179, 0.02182179, ..., 0.02182179, 0.02182179,\n",
       "         0.02182179]]),\n",
       " array([[0.02182179, 0.02182179, 0.02182179, ..., 0.02182179, 0.02182179,\n",
       "         0.02182179],\n",
       "        [0.02182179, 0.02182179, 0.02182179, ..., 0.02182179, 0.02182179,\n",
       "         0.02182179],\n",
       "        [0.02182179, 0.02182179, 0.02182179, ..., 0.02182179, 0.02182179,\n",
       "         0.02182179],\n",
       "        ...,\n",
       "        [0.02182179, 0.02182179, 0.02182179, ..., 0.02182179, 0.02182179,\n",
       "         0.02182179],\n",
       "        [0.02182179, 0.02182179, 0.02182179, ..., 0.02182179, 0.02182179,\n",
       "         0.02182179],\n",
       "        [0.02182179, 0.02182179, 0.02182179, ..., 0.02182179, 0.02182179,\n",
       "         0.02182179]])]"
      ]
     },
     "execution_count": 17,
     "metadata": {},
     "output_type": "execute_result"
    }
   ],
   "source": [
    "backprop(w[])"
   ]
  },
  {
   "cell_type": "code",
   "execution_count": null,
   "metadata": {},
   "outputs": [],
   "source": []
  }
 ],
 "metadata": {
  "kernelspec": {
   "display_name": "Python 3",
   "language": "python",
   "name": "python3"
  },
  "language_info": {
   "codemirror_mode": {
    "name": "ipython",
    "version": 3
   },
   "file_extension": ".py",
   "mimetype": "text/x-python",
   "name": "python",
   "nbconvert_exporter": "python",
   "pygments_lexer": "ipython3",
   "version": "3.8.6"
  }
 },
 "nbformat": 4,
 "nbformat_minor": 4
}
