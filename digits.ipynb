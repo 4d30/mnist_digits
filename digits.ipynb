{
 "cells": [
  {
   "cell_type": "code",
   "execution_count": 1,
   "metadata": {},
   "outputs": [
    {
     "name": "stderr",
     "output_type": "stream",
     "text": [
      "Using Theano backend.\n"
     ]
    }
   ],
   "source": [
    "import keras\n",
    "import theano\n",
    "import numpy as np\n",
    "from sklearn.model_selection import train_test_split\n",
    "from sklearn.preprocessing import normalize\n",
    "from keras.models import Sequential\n",
    "from keras.layers.core import Dense, Activation"
   ]
  },
  {
   "cell_type": "code",
   "execution_count": 2,
   "metadata": {},
   "outputs": [
    {
     "name": "stdout",
     "output_type": "stream",
     "text": [
      "Input:\n",
      "Shape:(42000, 784)\n",
      "[[0 0 0 0 0]\n",
      " [0 0 0 0 0]\n",
      " [0 0 0 0 0]\n",
      " [0 0 0 0 0]\n",
      " [0 0 0 0 0]]\n",
      "\n",
      "Output:\n",
      "Shape:(42000,)\n",
      "[1 0 1 4 0]\n",
      "\n"
     ]
    }
   ],
   "source": [
    "try:\n",
    "    with open('./input/inputs.npy',\"rb\") as f:\n",
    "        inputs = np.load(f)\n",
    "    with open('./input/outputs.npy',\"rb\") as f:\n",
    "        outputs = np.load(f)\n",
    "        \n",
    "except:\n",
    "    data = np.genfromtxt('./input/train.csv', delimiter=',',skip_header=1,dtype=np.uint8)\n",
    "    inputs = data[:,1:]\n",
    "    outputs = data[:,0]\n",
    "    np.save('./input/inputs.npy',inputs)\n",
    "    np.save('./input/outputs.npy',outputs)\n",
    "print(f'Input:\\nShape:{inputs.shape}\\n{inputs[:5,:5]}\\n')\n",
    "print(f'Output:\\nShape:{outputs.shape}\\n{outputs[:5]}\\n')"
   ]
  },
  {
   "cell_type": "code",
   "execution_count": 3,
   "metadata": {},
   "outputs": [],
   "source": [
    "def onehot(ARRAY):\n",
    "    return np.eye(10)[ARRAY].astype(np.uint8)"
   ]
  },
  {
   "cell_type": "code",
   "execution_count": 4,
   "metadata": {},
   "outputs": [
    {
     "name": "stdout",
     "output_type": "stream",
     "text": [
      "(33600, 784)\n",
      "(33600, 10)\n"
     ]
    }
   ],
   "source": [
    "inputs = normalize(inputs)\n",
    "X_train, X_test, y_train, y_test = train_test_split(inputs,outputs,test_size = 0.2)\n",
    "\n",
    "X_train = X_train\n",
    "y_train_hot = onehot(y_train)\n",
    "\n",
    "print(X_train.shape)\n",
    "print(y_train_hot.shape)"
   ]
  },
  {
   "cell_type": "code",
   "execution_count": 5,
   "metadata": {},
   "outputs": [],
   "source": [
    "model = Sequential()\n",
    "\n",
    "model.add(Dense(input_dim=784, units=350))\n",
    "model.add(Activation(\"sigmoid\"))\n",
    "model.add(Dense(units=10))\n",
    "model.add(Activation(\"softmax\"))"
   ]
  },
  {
   "cell_type": "code",
   "execution_count": 6,
   "metadata": {},
   "outputs": [
    {
     "name": "stdout",
     "output_type": "stream",
     "text": [
      "Epoch 1/12\n",
      "33600/33600 [==============================] - 23s 680us/step - loss: 1.8887 - acc: 0.548917s\n",
      "Epoch 2/12\n",
      "33600/33600 [==============================] - 23s 679us/step - loss: 1.1014 - acc: 0.8048\n",
      "Epoch 3/12\n",
      "33600/33600 [==============================] - 23s 679us/step - loss: 0.7024 - acc: 0.8513\n",
      "Epoch 4/12\n",
      "33600/33600 [==============================] - 23s 683us/step - loss: 0.5332 - acc: 0.87482s - loss: 0.5366 - a\n",
      "Epoch 5/12\n",
      "33600/33600 [==============================] - 23s 681us/step - loss: 0.4457 - acc: 0.8878\n",
      "Epoch 6/12\n",
      "33600/33600 [==============================] - 23s 687us/step - loss: 0.3955 - acc: 0.89638s - loss: 0.4016 - acc:  - ETA: 7s - loss: 0.3975 - acc: 0. - ETA: 6s\n",
      "Epoch 7/12\n",
      "33600/33600 [==============================] - 23s 698us/step - loss: 0.3625 - acc: 0.90233s - loss: 0.3\n",
      "Epoch 8/12\n",
      "33600/33600 [==============================] - 23s 691us/step - loss: 0.3403 - acc: 0.9059\n",
      "Epoch 9/12\n",
      "33600/33600 [==============================] - 23s 689us/step - loss: 0.3220 - acc: 0.90947s - loss: 0.3260  - ETA: 4s - loss: 0.\n",
      "Epoch 10/12\n",
      "33600/33600 [==============================] - 23s 685us/step - loss: 0.3091 - acc: 0.9133\n",
      "Epoch 11/12\n",
      "33600/33600 [==============================] - 23s 680us/step - loss: 0.2985 - acc: 0.9149\n",
      "Epoch 12/12\n",
      "33600/33600 [==============================] - 23s 684us/step - loss: 0.2904 - acc: 0.9165\n",
      "8400/8400 [==============================] - 2s 258us/step\n"
     ]
    },
    {
     "data": {
      "text/plain": [
       "[0.31120160639286043, 0.9125]"
      ]
     },
     "execution_count": 6,
     "metadata": {},
     "output_type": "execute_result"
    }
   ],
   "source": [
    "model.compile(loss='categorical_crossentropy', optimizer='Adam', metrics=['accuracy'])\n",
    "\n",
    "model.fit(X_train, y_train_hot, epochs=12, batch_size=336)\n",
    "\n",
    "model.evaluate(X_test, onehot(y_test), batch_size=840)"
   ]
  },
  {
   "cell_type": "markdown",
   "metadata": {},
   "source": [
    " "
   ]
  }
 ],
 "metadata": {
  "kernelspec": {
   "display_name": "Python 3",
   "language": "python",
   "name": "python3"
  },
  "language_info": {
   "codemirror_mode": {
    "name": "ipython",
    "version": 3
   },
   "file_extension": ".py",
   "mimetype": "text/x-python",
   "name": "python",
   "nbconvert_exporter": "python",
   "pygments_lexer": "ipython3",
   "version": "3.8.6"
  }
 },
 "nbformat": 4,
 "nbformat_minor": 4
}
