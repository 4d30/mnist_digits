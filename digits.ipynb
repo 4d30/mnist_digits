{
 "cells": [
  {
   "cell_type": "code",
   "execution_count": 1,
   "metadata": {},
   "outputs": [],
   "source": [
    "#import pandas as pd\n",
    "import numpy as np\n",
    "from multiprocessing import Process, Pipe\n",
    "from sklearn.model_selection import train_test_split\n",
    "from sklearn.preprocessing import normalize\n",
    "from os import cpu_count\n",
    "import sys"
   ]
  },
  {
   "cell_type": "code",
   "execution_count": 2,
   "metadata": {},
   "outputs": [
    {
     "name": "stdout",
     "output_type": "stream",
     "text": [
      "Input:\n",
      "Shape:(42000, 784)\n",
      "[[0 0 0 0 0]\n",
      " [0 0 0 0 0]\n",
      " [0 0 0 0 0]\n",
      " [0 0 0 0 0]\n",
      " [0 0 0 0 0]]\n",
      "\n",
      "Output:\n",
      "Shape:(42000,)\n",
      "[1 0 1 ... 7 6 9]\n",
      "\n"
     ]
    }
   ],
   "source": [
    "try:\n",
    "    with open('./input/inputs.npy',\"rb\") as f:\n",
    "        inputs = np.load(f)\n",
    "    with open('./input/outputs.npy',\"rb\") as f:\n",
    "        outputs = np.load(f)\n",
    "        \n",
    "except:\n",
    "    data = np.genfromtxt('./input/train.csv', delimiter=',',skip_header=1,dtype=np.uint8)\n",
    "    inputs = data[:,1:]\n",
    "    outputs = data[:,0]\n",
    "    np.save('./input/inputs.npy',inputs)\n",
    "    np.save('./input/outputs.npy',outputs)\n",
    "print(f'Input:\\nShape:{inputs.shape}\\n{inputs[:5,:5]}\\n')\n",
    "print(f'Output:\\nShape:{outputs.shape}\\n{outputs}\\n')"
   ]
  },
  {
   "cell_type": "code",
   "execution_count": 3,
   "metadata": {},
   "outputs": [],
   "source": [
    "inputs = normalize(inputs)\n",
    "\n",
    "X_train, X_test, y_train, y_test = train_test_split(inputs,outputs,test_size = 0.95)\n",
    "\n",
    "X_train = X_train.T\n",
    "y_train_hot = np.eye(10)[y_train].astype(np.uint8).T\n",
    "\n",
    "l_dim = np.array([X_train.shape[0],397,10],dtype = np.uint16)\n",
    "w = [int]*(len(l_dim)+1)\n",
    "b = [int]*(len(l_dim)+1)"
   ]
  },
  {
   "cell_type": "code",
   "execution_count": 7,
   "metadata": {},
   "outputs": [],
   "source": [
    "def sigmoid(X):\n",
    "    return np.exp(X)/(1 + np.exp(X))\n",
    "\n",
    "def sigprime(X):\n",
    "    return np.exp(X)/np.power(1 + np.exp(X),2)\n",
    "\n",
    "def initialize_wb(LAYERS):\n",
    "    for i in range(0,len(LAYERS)-1):\n",
    "        w[i] = np.array(np.random.random((LAYERS[i+1],LAYERS[i])), dtype=np.float128)\n",
    "        b[i]  = np.zeros((LAYERS[i+1],1), dtype=np.float16)\n",
    "    return w, b\n",
    "\n",
    "def feedforward(W,X,B):\n",
    "    return normalize(sigmoid(np.dot(W,X) + B))\n",
    "\n",
    "def cost(PRED,TRUE):\n",
    "    return 1/2*np.sum(np.power(np.subtract(PRED,TRUE),2))"
   ]
  },
  {
   "cell_type": "code",
   "execution_count": 8,
   "metadata": {
    "scrolled": true
   },
   "outputs": [
    {
     "data": {
      "text/plain": [
       "array([[0.02181335, 0.02181896, 0.02182314, ..., 0.02188905, 0.02193719,\n",
       "        0.02166867],\n",
       "       [0.02181253, 0.02183327, 0.0218368 , ..., 0.02188983, 0.02194885,\n",
       "        0.02175236],\n",
       "       [0.02181333, 0.02184195, 0.02183674, ..., 0.02190956, 0.02199049,\n",
       "        0.02166524],\n",
       "       ...,\n",
       "       [0.02178065, 0.02182986, 0.02182803, ..., 0.02182319, 0.02194877,\n",
       "        0.02173285],\n",
       "       [0.02180153, 0.02183103, 0.02180938, ..., 0.02185652, 0.02194307,\n",
       "        0.02167154],\n",
       "       [0.02183943, 0.02177822, 0.02179939, ..., 0.02187886, 0.0219614 ,\n",
       "        0.02156362]])"
      ]
     },
     "execution_count": 8,
     "metadata": {},
     "output_type": "execute_result"
    }
   ],
   "source": [
    "w, b = initialize_wb(l_dim)\n",
    "normalize(feedforward(w[0],X_train,b[0]))"
   ]
  },
  {
   "cell_type": "code",
   "execution_count": 9,
   "metadata": {},
   "outputs": [
    {
     "name": "stdout",
     "output_type": "stream",
     "text": [
      "(397, 2100)\n",
      "(10, 2100)\n",
      "1009.1737997032033\n"
     ]
    }
   ],
   "source": [
    "w, b = initialize_wb(l_dim)\n",
    "layer = X_train\n",
    "for i in range(0,len(l_dim)-1):\n",
    "    sys.stdout.write(f'{i}\\r')\n",
    "    newlayer = feedforward(w[i],layer,b[i])\n",
    "    print(newlayer.shape)\n",
    "    layer = newlayer\n",
    "print(cost(layer,y_train_hot))"
   ]
  },
  {
   "cell_type": "code",
   "execution_count": 6,
   "metadata": {},
   "outputs": [
    {
     "data": {
      "text/plain": [
       "18900.0"
      ]
     },
     "execution_count": 6,
     "metadata": {},
     "output_type": "execute_result"
    }
   ],
   "source": [
    "np.sum(np.power(np.subtract(layer,y_train_hot),2))"
   ]
  },
  {
   "cell_type": "code",
   "execution_count": 11,
   "metadata": {},
   "outputs": [
    {
     "data": {
      "text/plain": [
       "1.0"
      ]
     },
     "execution_count": 11,
     "metadata": {},
     "output_type": "execute_result"
    }
   ],
   "source": []
  },
  {
   "cell_type": "code",
   "execution_count": null,
   "metadata": {},
   "outputs": [],
   "source": []
  }
 ],
 "metadata": {
  "kernelspec": {
   "display_name": "Python 3",
   "language": "python",
   "name": "python3"
  },
  "language_info": {
   "codemirror_mode": {
    "name": "ipython",
    "version": 3
   },
   "file_extension": ".py",
   "mimetype": "text/x-python",
   "name": "python",
   "nbconvert_exporter": "python",
   "pygments_lexer": "ipython3",
   "version": "3.8.6"
  }
 },
 "nbformat": 4,
 "nbformat_minor": 4
}
