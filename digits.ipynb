{
 "cells": [
  {
   "cell_type": "code",
   "execution_count": 1,
   "metadata": {},
   "outputs": [],
   "source": [
    "#import pandas as pd\n",
    "import numpy as np\n",
    "import sys\n",
    "from multiprocessing import Process, Pipe\n",
    "from sklearn.model_selection import train_test_split\n",
    "from sklearn.preprocessing import normalize\n",
    "from os import cpu_count"
   ]
  },
  {
   "cell_type": "code",
   "execution_count": 2,
   "metadata": {},
   "outputs": [
    {
     "name": "stdout",
     "output_type": "stream",
     "text": [
      "Input:\n",
      "Shape:(42000, 784)\n",
      "[[0 0 0 0 0]\n",
      " [0 0 0 0 0]\n",
      " [0 0 0 0 0]\n",
      " [0 0 0 0 0]\n",
      " [0 0 0 0 0]]\n",
      "\n",
      "Output:\n",
      "Shape:(42000,)\n",
      "[1 0 1 ... 7 6 9]\n",
      "\n"
     ]
    }
   ],
   "source": [
    "try:\n",
    "    with open('./input/inputs.npy',\"rb\") as f:\n",
    "        inputs = np.load(f)\n",
    "    with open('./input/outputs.npy',\"rb\") as f:\n",
    "        outputs = np.load(f)\n",
    "        \n",
    "except:\n",
    "    data = np.genfromtxt('./input/train.csv', delimiter=',',skip_header=1,dtype=np.uint8)\n",
    "    inputs = data[:,1:]\n",
    "    outputs = data[:,0]\n",
    "    np.save('./input/inputs.npy',inputs)\n",
    "    np.save('./input/outputs.npy',outputs)\n",
    "print(f'Input:\\nShape:{inputs.shape}\\n{inputs[:5,:5]}\\n')\n",
    "print(f'Output:\\nShape:{outputs.shape}\\n{outputs}\\n')"
   ]
  },
  {
   "cell_type": "code",
   "execution_count": 3,
   "metadata": {},
   "outputs": [],
   "source": [
    "def onehot(ARRAY):\n",
    "    return np.eye(10)[ARRAY].astype(np.uint8).T"
   ]
  },
  {
   "cell_type": "code",
   "execution_count": 16,
   "metadata": {},
   "outputs": [],
   "source": [
    "inputs = normalize(inputs)\n",
    "X_train, X_test, y_train, y_test = train_test_split(inputs,outputs,test_size = 0.95)\n",
    "\n",
    "X_train = X_train.T\n",
    "y_train_hot = onehot(y_train)\n",
    "\n",
    "l_dim = np.array([X_train.shape[0],485,299,185,114,71,44,27,17,10], dtype = np.uint16)\n",
    "w = [int]*(len(l_dim)+1)\n",
    "b = [int]*(len(l_dim)+1)"
   ]
  },
  {
   "cell_type": "code",
   "execution_count": 17,
   "metadata": {},
   "outputs": [
    {
     "name": "stdout",
     "output_type": "stream",
     "text": [
      "784\n",
      "485\n",
      "300\n",
      "185\n",
      "114\n",
      "70\n",
      "43\n",
      "27\n",
      "17\n",
      "11\n"
     ]
    }
   ],
   "source": [
    "G = X_train.shape[0]\n",
    "g = []\n",
    "phi = (1 + np.sqrt(5))/2\n",
    "i = 0\n",
    "while G >= 10:\n",
    "    print(G)\n",
    "    G = int(round(G/phi,0))\n"
   ]
  },
  {
   "cell_type": "code",
   "execution_count": 28,
   "metadata": {},
   "outputs": [],
   "source": [
    "def sigmoid(X):\n",
    "    return np.exp(X)/(1 + np.exp(X))\n",
    "\n",
    "def sigprime(X):\n",
    "    return np.exp(X)/np.power(1 + np.exp(X),2)\n",
    "\n",
    "def initialize_wb(LAYERS):\n",
    "    for i in range(0,len(LAYERS)-1):\n",
    "        w[i] = np.array(np.random.random((LAYERS[i+1],LAYERS[i])), dtype=np.float128)\n",
    "        b[i]  = np.array(np.random.random((LAYERS[i+1],1)), dtype=np.float128)\n",
    "    return w, b\n",
    "\n",
    "def feedforward(W,X,B):\n",
    "    return normalize(sigmoid(np.dot(W,X) + B))\n",
    "\n",
    "def costfunction(PRED,TRUE):\n",
    "    return np.sum(np.power(np.subtract(PRED,TRUE),2))\n",
    "\n",
    "def backprop(WA, WB, AA, AB, AB_TRUE, BA): #Layer A calculates Layer B, we update weights in layer A\n",
    "    # WA - \"weight layer A\"\n",
    "    # AB - \"activation layer B\"\n",
    "    # BA - \"bias layer A\"   \n",
    "    w_adj = 1/len(AB)*2*np.sum((AB-AB_TRUE)*sigprime(AB))*AA\n",
    "    b_adj = 2*np.sum((AB-AB_TRUE)*sigprime(AB))\n",
    "    w_new = WA\n",
    "    for i in range(len(WA)):\n",
    "        w_new[i] = WA[i] - np.average(w_adj,axis=1)[i]\n",
    "    b_new = BA\n",
    "    for i in range(len(BA)):\n",
    "        b_new[i] = BA[i] - b_adj\n",
    "    return w_new, b_new"
   ]
  },
  {
   "cell_type": "code",
   "execution_count": null,
   "metadata": {},
   "outputs": [],
   "source": [
    "backprop(w[7],w[8],a[7],a[8],y_train,b[8])"
   ]
  },
  {
   "cell_type": "code",
   "execution_count": 61,
   "metadata": {},
   "outputs": [
    {
     "name": "stdout",
     "output_type": "stream",
     "text": [
      "(485, 2100)\n",
      "(299, 2100)\n",
      "(185, 2100)\n",
      "(114, 2100)\n",
      "(71, 2100)\n",
      "(44, 2100)\n",
      "(27, 2100)\n",
      "(17, 2100)\n",
      "(10, 2100)\n"
     ]
    },
    {
     "ename": "TypeError",
     "evalue": "backprop() missing 2 required positional arguments: 'AB_TRUE' and 'BA'",
     "output_type": "error",
     "traceback": [
      "\u001b[0;31m---------------------------------------------------------------------------\u001b[0m",
      "\u001b[0;31mTypeError\u001b[0m                                 Traceback (most recent call last)",
      "\u001b[0;32m<ipython-input-61-cc9ef699f334>\u001b[0m in \u001b[0;36m<module>\u001b[0;34m\u001b[0m\n\u001b[1;32m      9\u001b[0m     \u001b[0mlayer\u001b[0m \u001b[0;34m=\u001b[0m \u001b[0mnewlayer\u001b[0m\u001b[0;34m\u001b[0m\u001b[0;34m\u001b[0m\u001b[0m\n\u001b[1;32m     10\u001b[0m \u001b[0;32mfor\u001b[0m \u001b[0mi\u001b[0m \u001b[0;32min\u001b[0m \u001b[0mreversed\u001b[0m\u001b[0;34m(\u001b[0m\u001b[0mrange\u001b[0m\u001b[0;34m(\u001b[0m\u001b[0;36m0\u001b[0m\u001b[0;34m,\u001b[0m\u001b[0mlen\u001b[0m\u001b[0;34m(\u001b[0m\u001b[0ml_dim\u001b[0m\u001b[0;34m)\u001b[0m\u001b[0;34m-\u001b[0m\u001b[0;36m1\u001b[0m\u001b[0;34m)\u001b[0m\u001b[0;34m)\u001b[0m\u001b[0;34m:\u001b[0m\u001b[0;34m\u001b[0m\u001b[0;34m\u001b[0m\u001b[0m\n\u001b[0;32m---> 11\u001b[0;31m     \u001b[0mw\u001b[0m\u001b[0;34m[\u001b[0m\u001b[0mi\u001b[0m\u001b[0;34m]\u001b[0m\u001b[0;34m,\u001b[0m \u001b[0mb\u001b[0m\u001b[0;34m[\u001b[0m\u001b[0mi\u001b[0m\u001b[0;34m]\u001b[0m \u001b[0;34m=\u001b[0m \u001b[0mbackprop\u001b[0m\u001b[0;34m(\u001b[0m\u001b[0mw\u001b[0m\u001b[0;34m[\u001b[0m\u001b[0mi\u001b[0m\u001b[0;34m-\u001b[0m\u001b[0;36m1\u001b[0m\u001b[0;34m]\u001b[0m\u001b[0;34m,\u001b[0m\u001b[0mw\u001b[0m\u001b[0;34m[\u001b[0m\u001b[0mi\u001b[0m\u001b[0;34m]\u001b[0m\u001b[0;34m,\u001b[0m\u001b[0ma\u001b[0m\u001b[0;34m[\u001b[0m\u001b[0mi\u001b[0m\u001b[0;34m-\u001b[0m\u001b[0;36m1\u001b[0m\u001b[0;34m]\u001b[0m\u001b[0;34m,\u001b[0m\u001b[0ma\u001b[0m\u001b[0;34m[\u001b[0m\u001b[0mi\u001b[0m\u001b[0;34m]\u001b[0m\u001b[0;34m,\u001b[0m\u001b[0;34m)\u001b[0m\u001b[0;34m\u001b[0m\u001b[0;34m\u001b[0m\u001b[0m\n\u001b[0m",
      "\u001b[0;31mTypeError\u001b[0m: backprop() missing 2 required positional arguments: 'AB_TRUE' and 'BA'"
     ]
    }
   ],
   "source": [
    "w, b = initialize_wb(l_dim)\n",
    "a = [] #activations\n",
    "A = a #recalculated activations\n",
    "layer = X_train\n",
    "for i in range(0,len(l_dim)-1):\n",
    "    sys.stdout.write(f'{i}\\r')\n",
    "    newlayer = feedforward(w[i],layer,b[i])\n",
    "    print(newlayer.shape)\n",
    "    a.append(newlayer)\n",
    "    layer = newlayer\n",
    "for i in reversed(range(0,len(l_dim)-1)):\n",
    "    w[i], b[i] = backprop(w[i-1],w[i],a[i-1],a[i],)"
   ]
  },
  {
   "cell_type": "code",
   "execution_count": 37,
   "metadata": {},
   "outputs": [
    {
     "name": "stdout",
     "output_type": "stream",
     "text": [
      "(2100,)\n",
      "(2100,)\n"
     ]
    }
   ],
   "source": [
    "print(f'{layer[9].shape}')\n",
    "print(f'{y_train.shape}')"
   ]
  },
  {
   "cell_type": "code",
   "execution_count": 14,
   "metadata": {},
   "outputs": [
    {
     "name": "stdout",
     "output_type": "stream",
     "text": [
      "(485, 2100)\n",
      "(299, 2100)\n",
      "(185, 2100)\n",
      "(114, 2100)\n",
      "(71, 2100)\n",
      "(44, 2100)\n",
      "(27, 2100)\n",
      "(17, 2100)\n",
      "(10, 2100)\n"
     ]
    }
   ],
   "source": [
    "for l in layers:\n",
    "    print(l.shape)"
   ]
  },
  {
   "cell_type": "code",
   "execution_count": 37,
   "metadata": {
    "scrolled": true
   },
   "outputs": [
    {
     "data": {
      "text/plain": [
       "(2100,)"
      ]
     },
     "execution_count": 37,
     "metadata": {},
     "output_type": "execute_result"
    }
   ],
   "source": [
    "layer[8].shape"
   ]
  },
  {
   "cell_type": "code",
   "execution_count": 17,
   "metadata": {},
   "outputs": [
    {
     "data": {
      "text/plain": [
       "[array([[0.02188446, 0.02186296, 0.02197822, ..., 0.02198359, 0.02190449,\n",
       "         0.02165446],\n",
       "        [0.02187859, 0.02184836, 0.02192142, ..., 0.02191524, 0.02189598,\n",
       "         0.02168718],\n",
       "        [0.02175002, 0.02175859, 0.02199114, ..., 0.02199479, 0.02186999,\n",
       "         0.02162903],\n",
       "        ...,\n",
       "        [0.0218813 , 0.02185595, 0.02195276, ..., 0.02194159, 0.02187636,\n",
       "         0.02169529],\n",
       "        [0.02178212, 0.02175541, 0.02193507, ..., 0.02194156, 0.02190111,\n",
       "         0.02165755],\n",
       "        [0.021805  , 0.02173554, 0.02190916, ..., 0.02189457, 0.02188438,\n",
       "         0.02179981]]),\n",
       " array([[0.02182216, 0.02182137, 0.02182489, ..., 0.02182486, 0.02182368,\n",
       "         0.02181951],\n",
       "        [0.02182212, 0.02182142, 0.02182478, ..., 0.02182473, 0.02182359,\n",
       "         0.02181959],\n",
       "        [0.02182216, 0.02182142, 0.02182503, ..., 0.021825  , 0.02182372,\n",
       "         0.02181933],\n",
       "        ...,\n",
       "        [0.0218221 , 0.02182149, 0.02182433, ..., 0.0218243 , 0.02182331,\n",
       "         0.02181989],\n",
       "        [0.02182218, 0.02182136, 0.02182536, ..., 0.02182532, 0.02182393,\n",
       "         0.02181912],\n",
       "        [0.02182221, 0.02182134, 0.02182535, ..., 0.02182531, 0.02182392,\n",
       "         0.0218191 ]]),\n",
       " array([[0.02182183, 0.02182175, 0.02182214, ..., 0.02182214, 0.021822  ,\n",
       "         0.02182153],\n",
       "        [0.02182183, 0.02182174, 0.02182215, ..., 0.02182215, 0.02182201,\n",
       "         0.02182152],\n",
       "        [0.02182183, 0.02182174, 0.02182217, ..., 0.02182216, 0.02182202,\n",
       "         0.02182151],\n",
       "        ...,\n",
       "        [0.02182183, 0.02182174, 0.02182217, ..., 0.02182216, 0.02182202,\n",
       "         0.02182151],\n",
       "        [0.02182184, 0.02182174, 0.02182221, ..., 0.02182221, 0.02182204,\n",
       "         0.02182147],\n",
       "        [0.02182183, 0.02182175, 0.02182212, ..., 0.02182212, 0.02182199,\n",
       "         0.02182154]]),\n",
       " array([[0.0218218 , 0.02182178, 0.02182188, ..., 0.02182188, 0.02182184,\n",
       "         0.02182172],\n",
       "        [0.0218218 , 0.02182178, 0.02182188, ..., 0.02182188, 0.02182184,\n",
       "         0.02182172],\n",
       "        [0.0218218 , 0.02182178, 0.02182187, ..., 0.02182187, 0.02182184,\n",
       "         0.02182173],\n",
       "        ...,\n",
       "        [0.0218218 , 0.02182178, 0.02182188, ..., 0.02182188, 0.02182184,\n",
       "         0.02182172],\n",
       "        [0.0218218 , 0.02182178, 0.02182188, ..., 0.02182188, 0.02182184,\n",
       "         0.02182172],\n",
       "        [0.0218218 , 0.02182178, 0.02182187, ..., 0.02182187, 0.02182184,\n",
       "         0.02182173]]),\n",
       " array([[0.02182179, 0.02182179, 0.02182181, ..., 0.02182181, 0.0218218 ,\n",
       "         0.02182177],\n",
       "        [0.02182179, 0.02182179, 0.02182181, ..., 0.02182181, 0.0218218 ,\n",
       "         0.02182177],\n",
       "        [0.02182179, 0.02182179, 0.02182181, ..., 0.02182181, 0.0218218 ,\n",
       "         0.02182177],\n",
       "        ...,\n",
       "        [0.02182179, 0.02182179, 0.02182181, ..., 0.02182181, 0.0218218 ,\n",
       "         0.02182177],\n",
       "        [0.02182179, 0.02182179, 0.02182181, ..., 0.02182181, 0.0218218 ,\n",
       "         0.02182177],\n",
       "        [0.02182179, 0.02182179, 0.02182181, ..., 0.02182181, 0.0218218 ,\n",
       "         0.02182177]]),\n",
       " array([[0.02182179, 0.02182179, 0.0218218 , ..., 0.0218218 , 0.02182179,\n",
       "         0.02182178],\n",
       "        [0.02182179, 0.02182179, 0.02182179, ..., 0.02182179, 0.02182179,\n",
       "         0.02182178],\n",
       "        [0.02182179, 0.02182179, 0.02182179, ..., 0.02182179, 0.02182179,\n",
       "         0.02182178],\n",
       "        ...,\n",
       "        [0.02182179, 0.02182179, 0.0218218 , ..., 0.0218218 , 0.02182179,\n",
       "         0.02182178],\n",
       "        [0.02182179, 0.02182179, 0.0218218 , ..., 0.0218218 , 0.02182179,\n",
       "         0.02182178],\n",
       "        [0.02182179, 0.02182179, 0.02182179, ..., 0.02182179, 0.02182179,\n",
       "         0.02182178]]),\n",
       " array([[0.02182179, 0.02182179, 0.02182179, ..., 0.02182179, 0.02182179,\n",
       "         0.02182179],\n",
       "        [0.02182179, 0.02182179, 0.02182179, ..., 0.02182179, 0.02182179,\n",
       "         0.02182179],\n",
       "        [0.02182179, 0.02182179, 0.02182179, ..., 0.02182179, 0.02182179,\n",
       "         0.02182179],\n",
       "        ...,\n",
       "        [0.02182179, 0.02182179, 0.02182179, ..., 0.02182179, 0.02182179,\n",
       "         0.02182179],\n",
       "        [0.02182179, 0.02182179, 0.02182179, ..., 0.02182179, 0.02182179,\n",
       "         0.02182179],\n",
       "        [0.02182179, 0.02182179, 0.02182179, ..., 0.02182179, 0.02182179,\n",
       "         0.02182179]]),\n",
       " array([[0.02182179, 0.02182179, 0.02182179, ..., 0.02182179, 0.02182179,\n",
       "         0.02182179],\n",
       "        [0.02182179, 0.02182179, 0.02182179, ..., 0.02182179, 0.02182179,\n",
       "         0.02182179],\n",
       "        [0.02182179, 0.02182179, 0.02182179, ..., 0.02182179, 0.02182179,\n",
       "         0.02182179],\n",
       "        ...,\n",
       "        [0.02182179, 0.02182179, 0.02182179, ..., 0.02182179, 0.02182179,\n",
       "         0.02182179],\n",
       "        [0.02182179, 0.02182179, 0.02182179, ..., 0.02182179, 0.02182179,\n",
       "         0.02182179],\n",
       "        [0.02182179, 0.02182179, 0.02182179, ..., 0.02182179, 0.02182179,\n",
       "         0.02182179]]),\n",
       " array([[0.02182179, 0.02182179, 0.02182179, ..., 0.02182179, 0.02182179,\n",
       "         0.02182179],\n",
       "        [0.02182179, 0.02182179, 0.02182179, ..., 0.02182179, 0.02182179,\n",
       "         0.02182179],\n",
       "        [0.02182179, 0.02182179, 0.02182179, ..., 0.02182179, 0.02182179,\n",
       "         0.02182179],\n",
       "        ...,\n",
       "        [0.02182179, 0.02182179, 0.02182179, ..., 0.02182179, 0.02182179,\n",
       "         0.02182179],\n",
       "        [0.02182179, 0.02182179, 0.02182179, ..., 0.02182179, 0.02182179,\n",
       "         0.02182179],\n",
       "        [0.02182179, 0.02182179, 0.02182179, ..., 0.02182179, 0.02182179,\n",
       "         0.02182179]])]"
      ]
     },
     "execution_count": 17,
     "metadata": {},
     "output_type": "execute_result"
    }
   ],
   "source": [
    "backprop(w[])"
   ]
  },
  {
   "cell_type": "code",
   "execution_count": null,
   "metadata": {},
   "outputs": [],
   "source": []
  }
 ],
 "metadata": {
  "kernelspec": {
   "display_name": "Python 3",
   "language": "python",
   "name": "python3"
  },
  "language_info": {
   "codemirror_mode": {
    "name": "ipython",
    "version": 3
   },
   "file_extension": ".py",
   "mimetype": "text/x-python",
   "name": "python",
   "nbconvert_exporter": "python",
   "pygments_lexer": "ipython3",
   "version": "3.8.6"
  }
 },
 "nbformat": 4,
 "nbformat_minor": 4
}
