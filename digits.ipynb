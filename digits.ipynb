{
 "cells": [
  {
   "cell_type": "markdown",
   "metadata": {},
   "source": [
    "#### Get multiple threads going"
   ]
  },
  {
   "cell_type": "code",
   "execution_count": 17,
   "metadata": {},
   "outputs": [],
   "source": [
    "import os\n",
    "os.environ['MKL_NUM_THREADS'] = '8'\n",
    "os.environ['GOTO_NUM_THREADS'] = '8'\n",
    "os.environ['OMP_NUM_THREADS'] = '8'\n",
    "os.environ['openmp'] = 'True'"
   ]
  },
  {
   "cell_type": "markdown",
   "metadata": {},
   "source": [
    "#### Import some libraries"
   ]
  },
  {
   "cell_type": "code",
   "execution_count": 56,
   "metadata": {},
   "outputs": [],
   "source": [
    "import keras\n",
    "import numpy as np\n",
    "import matplotlib.pyplot as plt\n",
    "from sklearn.model_selection import train_test_split\n",
    "from sklearn.metrics import confusion_matrix, ConfusionMatrixDisplay\n",
    "from keras.models import Sequential\n",
    "from keras import Input\n",
    "from keras.layers.core import Dense, Activation, Flatten, Dropout\n",
    "from keras.layers.convolutional import Conv2D, MaxPooling2D"
   ]
  },
  {
   "cell_type": "markdown",
   "metadata": {},
   "source": [
    "#### Define some short helper functions"
   ]
  },
  {
   "cell_type": "code",
   "execution_count": 19,
   "metadata": {},
   "outputs": [],
   "source": [
    "# Returns an one-hot encoded array of integer 0-9\n",
    "# 3 -> [0,0,0,1,0,0,0,0,0,0]\n",
    "def onehot(ARRAY):\n",
    "    return np.eye(10)[ARRAY].astype(np.uint8)\n",
    "\n",
    "# Reshapes the data from the MNIST csv\n",
    "# Returns a 2D representation (28x28)px of the raw MNIST data\n",
    "def squareup(ARRAY):\n",
    "    return ARRAY.reshape(28,28)"
   ]
  },
  {
   "cell_type": "markdown",
   "metadata": {},
   "source": [
    "#### Load the data"
   ]
  },
  {
   "cell_type": "code",
   "execution_count": 21,
   "metadata": {},
   "outputs": [
    {
     "name": "stdout",
     "output_type": "stream",
     "text": [
      "Input:\n",
      "Shape:(42000, 28, 28, 1)\n",
      "[[0. 0. 0. 0. 0.]\n",
      " [0. 0. 0. 0. 0.]\n",
      " [0. 0. 0. 0. 0.]\n",
      " [0. 0. 0. 0. 0.]\n",
      " [0. 0. 0. 0. 0.]]\n",
      "\n",
      "Output:\n",
      "Shape:(42000,)\n",
      "[1 0 1 4 0]\n",
      "\n"
     ]
    }
   ],
   "source": [
    "# Try to load processed data first\n",
    "try:\n",
    "    with open('./input/inputs.npy',\"rb\") as f:\n",
    "        inputs = np.load(f)\n",
    "    with open('./input/outputs.npy',\"rb\") as f:\n",
    "        outputs = np.load(f)\n",
    "        \n",
    "# Load data an process if not available      \n",
    "except:\n",
    "    data = np.genfromtxt('./input/train.csv', delimiter=',',skip_header=1,dtype=np.uint8)\n",
    "    temp_inputs = data[:,1:]\n",
    "    inputs = np.zeros((temp_inputs.shape[0],28,28,1))\n",
    "    # Convert linear data from MNIST to 2D image\n",
    "    for i in range(len(temp_inputs)):\n",
    "        inputs[i,:28,:28,0] = squareup(temp_inputs[i])\n",
    "    outputs = data[:,0]\n",
    "    del temp_inputs, data\n",
    "    # Save for faster loading next time\n",
    "    np.save('./input/inputs.npy',inputs)\n",
    "    np.save('./input/outputs.npy',outputs)\n",
    "print(f'Input:\\nShape:{inputs.shape}\\n{inputs[0,:5,:5,0]}\\n')\n",
    "print(f'Output:\\nShape:{outputs.shape}\\n{outputs[:5]}\\n')"
   ]
  },
  {
   "cell_type": "markdown",
   "metadata": {},
   "source": [
    "#### View some MNIST handwritten digits"
   ]
  },
  {
   "cell_type": "code",
   "execution_count": 89,
   "metadata": {
    "scrolled": false
   },
   "outputs": [
    {
     "data": {
      "image/png": "[encoded data removed]",
      "text/plain": [
       "<Figure size 288x288 with 9 Axes>"
      ]
     },
     "metadata": {},
     "output_type": "display_data"
    }
   ],
   "source": [
    "fig = plt.figure(figsize=(4,4))\n",
    "for i in range(1,10):\n",
    "    plt.subplot(f'33{i}')\n",
    "    plt.tick_params(left=False,\n",
    "                    labelleft=False,\n",
    "                    bottom=False,\n",
    "                    labelbottom=False\n",
    "                   )\n",
    "    plt.imshow(inputs[i*(np.round(np.random.random()*100)).astype(int),:29,:29,0], cmap='gray_r')\n",
    "plt.show()"
   ]
  },
  {
   "cell_type": "markdown",
   "metadata": {},
   "source": [
    "#### Prepare the data to be modeled"
   ]
  },
  {
   "cell_type": "code",
   "execution_count": 24,
   "metadata": {},
   "outputs": [
    {
     "name": "stdout",
     "output_type": "stream",
     "text": [
      "(33600, 28, 28, 1)\n",
      "(33600, 10)\n"
     ]
    }
   ],
   "source": [
    "inputs = inputs/255.0 #Normalize\n",
    "X_train, X_test, y_train, y_test = train_test_split(inputs,outputs,test_size = 0.2)\n",
    "\n",
    "\n",
    "y_train_hot = onehot(y_train)\n",
    "y_test_hot = onehot(y_test)\n",
    "\n",
    "print(X_train.shape)\n",
    "print(y_train_hot.shape)"
   ]
  },
  {
   "cell_type": "markdown",
   "metadata": {},
   "source": [
    "#### Assemble a convolutional neural network"
   ]
  },
  {
   "cell_type": "code",
   "execution_count": 71,
   "metadata": {},
   "outputs": [],
   "source": [
    "model = Sequential()\n",
    "\n",
    "model.add(Conv2D(32, kernel_size=(3, 3), activation=\"relu\"))\n",
    "model.add(Conv2D(64, (3, 3), activation='relu'))\n",
    "model.add(MaxPooling2D((2, 2)))\n",
    "model.add(Dropout(0.25))\n",
    "model.add(Conv2D(64, (3, 3), activation='relu'))\n",
    "model.add(MaxPooling2D((2, 2)))\n",
    "model.add(Flatten(data_format=None))\n",
    "model.add(Dense(units=64))\n",
    "model.add(Dense(units=10))\n",
    "model.add(Activation(\"softmax\"))"
   ]
  },
  {
   "cell_type": "code",
   "execution_count": 72,
   "metadata": {},
   "outputs": [],
   "source": [
    "model.compile(loss='categorical_crossentropy',\n",
    "              optimizer='RMSprop',\n",
    "              metrics=['accuracy'])"
   ]
  },
  {
   "cell_type": "code",
   "execution_count": 73,
   "metadata": {},
   "outputs": [
    {
     "name": "stdout",
     "output_type": "stream",
     "text": [
      "Epoch 1/6\n",
      "33600/33600 [==============================] - 385s 11ms/step - loss: 0.4279 - acc: 0.8666\n",
      "Epoch 2/6\n",
      "33600/33600 [==============================] - 386s 11ms/step - loss: 0.0944 - acc: 0.9700\n",
      "Epoch 3/6\n",
      "33600/33600 [==============================] - 383s 11ms/step - loss: 0.0608 - acc: 0.9816\n",
      "Epoch 4/6\n",
      "33600/33600 [==============================] - 392s 12ms/step - loss: 0.0461 - acc: 0.9850\n",
      "Epoch 5/6\n",
      "33600/33600 [==============================] - 394s 12ms/step - loss: 0.0353 - acc: 0.9889\n",
      "Epoch 6/6\n",
      "33600/33600 [==============================] - 378s 11ms/step - loss: 0.0285 - acc: 0.9909\n",
      "_________________________________________________________________\n",
      "Layer (type)                 Output Shape              Param #   \n",
      "=================================================================\n",
      "conv2d_17 (Conv2D)           (None, 26, 26, 32)        320       \n",
      "_________________________________________________________________\n",
      "conv2d_18 (Conv2D)           (None, 24, 24, 64)        18496     \n",
      "_________________________________________________________________\n",
      "max_pooling2d_7 (MaxPooling2 (None, 12, 12, 64)        0         \n",
      "_________________________________________________________________\n",
      "dropout_2 (Dropout)          (None, 12, 12, 64)        0         \n",
      "_________________________________________________________________\n",
      "conv2d_19 (Conv2D)           (None, 10, 10, 64)        36928     \n",
      "_________________________________________________________________\n",
      "max_pooling2d_8 (MaxPooling2 (None, 5, 5, 64)          0         \n",
      "_________________________________________________________________\n",
      "flatten_11 (Flatten)         (None, 1600)              0         \n",
      "_________________________________________________________________\n",
      "dense_13 (Dense)             (None, 64)                102464    \n",
      "_________________________________________________________________\n",
      "dense_14 (Dense)             (None, 10)                650       \n",
      "_________________________________________________________________\n",
      "activation_14 (Activation)   (None, 10)                0         \n",
      "=================================================================\n",
      "Total params: 158,858\n",
      "Trainable params: 158,858\n",
      "Non-trainable params: 0\n",
      "_________________________________________________________________\n"
     ]
    }
   ],
   "source": [
    "model.fit(X_train, y_train_hot, \n",
    "          epochs=4, \n",
    "          batch_size=336,\n",
    "         )\n",
    "model.summary()"
   ]
  },
  {
   "cell_type": "code",
   "execution_count": 75,
   "metadata": {},
   "outputs": [
    {
     "name": "stdout",
     "output_type": "stream",
     "text": [
      "8400/8400 [==============================] - 31s 4ms/step\n"
     ]
    },
    {
     "data": {
      "text/plain": [
       "[0.03913174904882908, 0.9875]"
      ]
     },
     "execution_count": 75,
     "metadata": {},
     "output_type": "execute_result"
    }
   ],
   "source": [
    "model.evaluate(X_test, y_test_hot, batch_size=840)"
   ]
  },
  {
   "cell_type": "code",
   "execution_count": 76,
   "metadata": {},
   "outputs": [],
   "source": [
    "out = model.predict(X_test)"
   ]
  },
  {
   "cell_type": "code",
   "execution_count": 111,
   "metadata": {},
   "outputs": [
    {
     "name": "stdout",
     "output_type": "stream",
     "text": [
      "[0 0 0 0 1 0 0 0 0 0]\n"
     ]
    },
    {
     "data": {
      "text/plain": [
       "<matplotlib.image.AxesImage at 0x7d5709d5b2f0>"
      ]
     },
     "execution_count": 111,
     "metadata": {},
     "output_type": "execute_result"
    },
    {
     "data": {
      "image/png": "[encoded data removed]",
      "text/plain": [
       "<Figure size 432x288 with 1 Axes>"
      ]
     },
     "metadata": {
      "needs_background": "light"
     },
     "output_type": "display_data"
    }
   ],
   "source": [
    "K = 24\n",
    "print(np.round(out[K]).astype(int))\n",
    "plt.imshow(X_test[K,:29,:29,0],cmap='gray_r')"
   ]
  },
  {
   "cell_type": "code",
   "execution_count": 102,
   "metadata": {},
   "outputs": [
    {
     "data": {
      "text/plain": [
       "<sklearn.metrics._plot.confusion_matrix.ConfusionMatrixDisplay at 0x7d5707895670>"
      ]
     },
     "execution_count": 102,
     "metadata": {},
     "output_type": "execute_result"
    },
    {
     "data": {
      "image/png": "[encoded data removed]",
      "text/plain": [
       "<Figure size 432x288 with 2 Axes>"
      ]
     },
     "metadata": {
      "needs_background": "light"
     },
     "output_type": "display_data"
    }
   ],
   "source": [
    "c_mat = confusion_matrix(y_test_hot.argmax(axis=1),out.argmax(axis=1))\n",
    "disp = ConfusionMatrixDisplay(confusion_matrix = c_mat,display_labels=list(range(0,10)))\n",
    "disp.plot(values_format='d')"
   ]
  },
  {
   "cell_type": "markdown",
   "metadata": {},
   "source": [
    " "
   ]
  }
 ],
 "metadata": {
  "kernelspec": {
   "display_name": "Python 3",
   "language": "python",
   "name": "python3"
  },
  "language_info": {
   "codemirror_mode": {
    "name": "ipython",
    "version": 3
   },
   "file_extension": ".py",
   "mimetype": "text/x-python",
   "name": "python",
   "nbconvert_exporter": "python",
   "pygments_lexer": "ipython3",
   "version": "3.8.6"
  }
 },
 "nbformat": 4,
 "nbformat_minor": 4
}
