{
 "cells": [
  {
   "cell_type": "code",
   "execution_count": 1,
   "metadata": {},
   "outputs": [],
   "source": [
    "#import pandas as pd\n",
    "import numpy as np\n",
    "from multiprocessing import Process, Pipe\n",
    "from sklearn.model_selection import train_test_split\n",
    "from os import cpu_count"
   ]
  },
  {
   "cell_type": "code",
   "execution_count": 2,
   "metadata": {},
   "outputs": [
    {
     "name": "stdout",
     "output_type": "stream",
     "text": [
      "Input:\n",
      "[[0 0 0 0 0]\n",
      " [0 0 0 0 0]\n",
      " [0 0 0 0 0]\n",
      " [0 0 0 0 0]\n",
      " [0 0 0 0 0]]\n",
      "\n",
      "Output:\n",
      "[1 0 1 ... 7 6 9]\n",
      "\n"
     ]
    }
   ],
   "source": [
    "try:\n",
    "    with open('./input/inputs.npy',\"rb\") as f:\n",
    "        inputs = np.load(f)\n",
    "    with open('./input/outputs.npy',\"rb\") as f:\n",
    "        outputs = np.load(f)\n",
    "        \n",
    "except:\n",
    "    data = np.genfromtxt('./input/train.csv', delimiter=',',skip_header=1,dtype=np.uint8)\n",
    "    inputs = data[:,1:]\n",
    "    outputs = data[:,0]\n",
    "    np.save('./input/inputs.npy',inputs)\n",
    "    np.save('./input/outputs.npy',outputs)\n",
    "\n",
    "\n",
    "print(f'Input:\\n{inputs[:5,:5]}\\n')\n",
    "print(f'Output:\\n{outputs}\\n')"
   ]
  },
  {
   "cell_type": "code",
   "execution_count": 14,
   "metadata": {},
   "outputs": [],
   "source": [
    "testsize = 0.99\n",
    "\n",
    "class NeuralNetwork():\n",
    "    \n",
    "    def __init__(self):\n",
    "        # seeding for random number generation\n",
    "        np.random.seed(1)\n",
    "        \n",
    "        #converting weights to values from -1 to 1 and mean of 0\n",
    "        #self.weights = (2 * np.random.random((5, 3)) - 1).astype(np.float16)\n",
    "        self.weights = (2 * np.random.random((round(42000*(1-testsize)),784)) - 1).astype(np.float16)\n",
    "\n",
    "    def sigmoid(self, x):\n",
    "        #applying the sigmoid function\n",
    "        return 1 / (1 + np.exp(-x))\n",
    "\n",
    "    def sigmoid_derivative(self, x):\n",
    "        #computing derivative to the Sigmoid function\n",
    "        #print('sigmoid')\n",
    "        return x * (1 - x)\n",
    "\n",
    "    def train(self, training_inputs, training_outputs, training_iterations, bot, top, pipe):\n",
    "        #training the model to make accurate predictions while adjusting weights continually\n",
    "        for iteration in range(training_iterations):\n",
    "            #siphon the training data via  the neuron\n",
    "            output = self.feedforward(training_inputs,bot,top)\n",
    "\n",
    "            #computing error rate for back-propagation\n",
    "            print(f'train {training_outputs.shape}')\n",
    "            print(f'outputs {output.shape}')\n",
    "            error = training_outputs - output.T\n",
    "\n",
    "            #performing weight adjustments\n",
    "            adjustments = np.dot(training_inputs[bot:top,:], error.T * self.sigmoid_derivative(output))\n",
    "            self.weights += adjustments\n",
    "            \n",
    "            #phone home\n",
    "        pipe[1].send(self.weights)\n",
    "        pipe[1].close()\n",
    "        \n",
    "    def feedforward(self, inputs, bot, top):\n",
    "        output = self.sigmoid(np.dot(inputs[bot:top,:], self.weights[bot:top,:]))\n",
    "        print(f'outputshape{output.shape}')\n",
    "        return output\n",
    "    \n",
    "    def communicate(self, conn, data):\n",
    "        conn.send(data)       "
   ]
  },
  {
   "cell_type": "code",
   "execution_count": 15,
   "metadata": {},
   "outputs": [
    {
     "name": "stdout",
     "output_type": "stream",
     "text": [
      "Beginning Randomly Generated Weights: \n",
      "[[-0.166   0.4407 -1.     ...  0.9507 -0.3594  0.965 ]\n",
      " [ 0.2727 -0.2499  0.715  ... -0.643   0.94    0.484 ]\n",
      " [-0.4805  0.1625  0.9106 ...  0.3965 -0.7065  0.225 ]\n",
      " [-0.4414  0.8315 -0.6035 ... -0.873   0.1686 -0.3286]\n",
      " [ 0.7637  0.7476  0.975  ...  0.1312  0.281   0.5356]]\n"
     ]
    }
   ],
   "source": [
    "X_train, X_test, y_train, y_test = train_test_split(inputs,outputs,test_size=testsize)\n",
    "\n",
    "if __name__ == \"__main__\":\n",
    "\n",
    "    #initializing the neuron class\n",
    "    network = NeuralNetwork()\n",
    "\n",
    "    print(\"Beginning Randomly Generated Weights: \")\n",
    "    print(network.weights[0:5])\n",
    "\n",
    "    #training data consisting of 4 examples--3 input values and 1 output\n",
    "    training_inputs = X_train# np.random.random((3,5))#\n",
    "    training_outputs = y_train.T # np.array([1,2,3])#\n",
    "    iterations = 1"
   ]
  },
  {
   "cell_type": "code",
   "execution_count": 16,
   "metadata": {},
   "outputs": [
    {
     "ename": "ValueError",
     "evalue": "shapes (105,784) and (105,784) not aligned: 784 (dim 1) != 105 (dim 0)",
     "output_type": "error",
     "traceback": [
      "\u001b[0;31m---------------------------------------------------------------------------\u001b[0m",
      "\u001b[0;31mValueError\u001b[0m                                Traceback (most recent call last)",
      "\u001b[0;32m<ipython-input-16-16c7f8da112d>\u001b[0m in \u001b[0;36m<module>\u001b[0;34m\u001b[0m\n\u001b[1;32m      1\u001b[0m \u001b[0mnetwork\u001b[0m \u001b[0;34m=\u001b[0m \u001b[0mNeuralNetwork\u001b[0m\u001b[0;34m(\u001b[0m\u001b[0;34m)\u001b[0m\u001b[0;34m\u001b[0m\u001b[0;34m\u001b[0m\u001b[0m\n\u001b[0;32m----> 2\u001b[0;31m \u001b[0mnetwork\u001b[0m\u001b[0;34m.\u001b[0m\u001b[0mfeedforward\u001b[0m\u001b[0;34m(\u001b[0m\u001b[0mnp\u001b[0m\u001b[0;34m.\u001b[0m\u001b[0mrandom\u001b[0m\u001b[0;34m.\u001b[0m\u001b[0mrandom\u001b[0m\u001b[0;34m(\u001b[0m\u001b[0;34m(\u001b[0m\u001b[0;36m420\u001b[0m\u001b[0;34m,\u001b[0m\u001b[0;36m784\u001b[0m\u001b[0;34m)\u001b[0m\u001b[0;34m)\u001b[0m\u001b[0;34m,\u001b[0m\u001b[0;36m0\u001b[0m\u001b[0;34m,\u001b[0m\u001b[0;36m105\u001b[0m\u001b[0;34m)\u001b[0m\u001b[0;34m\u001b[0m\u001b[0;34m\u001b[0m\u001b[0m\n\u001b[0m\u001b[1;32m      3\u001b[0m \u001b[0;34m\u001b[0m\u001b[0m\n\u001b[1;32m      4\u001b[0m \u001b[0;34m\u001b[0m\u001b[0m\n\u001b[1;32m      5\u001b[0m \u001b[0mprint\u001b[0m\u001b[0;34m(\u001b[0m\u001b[0mtraining_inputs\u001b[0m\u001b[0;34m[\u001b[0m\u001b[0;36m0\u001b[0m\u001b[0;34m:\u001b[0m\u001b[0;36m5\u001b[0m\u001b[0;34m]\u001b[0m\u001b[0;34m)\u001b[0m\u001b[0;34m\u001b[0m\u001b[0;34m\u001b[0m\u001b[0m\n",
      "\u001b[0;32m<ipython-input-14-dd574c267301>\u001b[0m in \u001b[0;36mfeedforward\u001b[0;34m(self, inputs, bot, top)\u001b[0m\n\u001b[1;32m     40\u001b[0m \u001b[0;34m\u001b[0m\u001b[0m\n\u001b[1;32m     41\u001b[0m     \u001b[0;32mdef\u001b[0m \u001b[0mfeedforward\u001b[0m\u001b[0;34m(\u001b[0m\u001b[0mself\u001b[0m\u001b[0;34m,\u001b[0m \u001b[0minputs\u001b[0m\u001b[0;34m,\u001b[0m \u001b[0mbot\u001b[0m\u001b[0;34m,\u001b[0m \u001b[0mtop\u001b[0m\u001b[0;34m)\u001b[0m\u001b[0;34m:\u001b[0m\u001b[0;34m\u001b[0m\u001b[0;34m\u001b[0m\u001b[0m\n\u001b[0;32m---> 42\u001b[0;31m         \u001b[0moutput\u001b[0m \u001b[0;34m=\u001b[0m \u001b[0mself\u001b[0m\u001b[0;34m.\u001b[0m\u001b[0msigmoid\u001b[0m\u001b[0;34m(\u001b[0m\u001b[0mnp\u001b[0m\u001b[0;34m.\u001b[0m\u001b[0mdot\u001b[0m\u001b[0;34m(\u001b[0m\u001b[0minputs\u001b[0m\u001b[0;34m[\u001b[0m\u001b[0mbot\u001b[0m\u001b[0;34m:\u001b[0m\u001b[0mtop\u001b[0m\u001b[0;34m,\u001b[0m\u001b[0;34m:\u001b[0m\u001b[0;34m]\u001b[0m\u001b[0;34m,\u001b[0m \u001b[0mself\u001b[0m\u001b[0;34m.\u001b[0m\u001b[0mweights\u001b[0m\u001b[0;34m[\u001b[0m\u001b[0mbot\u001b[0m\u001b[0;34m:\u001b[0m\u001b[0mtop\u001b[0m\u001b[0;34m,\u001b[0m\u001b[0;34m:\u001b[0m\u001b[0;34m]\u001b[0m\u001b[0;34m)\u001b[0m\u001b[0;34m)\u001b[0m\u001b[0;34m\u001b[0m\u001b[0;34m\u001b[0m\u001b[0m\n\u001b[0m\u001b[1;32m     43\u001b[0m         \u001b[0mprint\u001b[0m\u001b[0;34m(\u001b[0m\u001b[0;34mf'outputshape{output.shape}'\u001b[0m\u001b[0;34m)\u001b[0m\u001b[0;34m\u001b[0m\u001b[0;34m\u001b[0m\u001b[0m\n\u001b[1;32m     44\u001b[0m         \u001b[0;32mreturn\u001b[0m \u001b[0moutput\u001b[0m\u001b[0;34m\u001b[0m\u001b[0;34m\u001b[0m\u001b[0m\n",
      "\u001b[0;32m<__array_function__ internals>\u001b[0m in \u001b[0;36mdot\u001b[0;34m(*args, **kwargs)\u001b[0m\n",
      "\u001b[0;31mValueError\u001b[0m: shapes (105,784) and (105,784) not aligned: 784 (dim 1) != 105 (dim 0)"
     ]
    }
   ],
   "source": [
    "network = NeuralNetwork()\n",
    "network.feedforward(np.random.random((420,784)),0,105)\n",
    "\n",
    "\n",
    "print(training_inputs[0:5])\n",
    "print(training_inputs.shape)\n",
    "network.weights.shape"
   ]
  },
  {
   "cell_type": "code",
   "execution_count": 17,
   "metadata": {},
   "outputs": [
    {
     "ename": "IndexError",
     "evalue": "too many indices for array: array is 1-dimensional, but 2 were indexed",
     "output_type": "error",
     "traceback": [
      "\u001b[0;31m---------------------------------------------------------------------------\u001b[0m",
      "\u001b[0;31mIndexError\u001b[0m                                Traceback (most recent call last)",
      "\u001b[0;32m<ipython-input-17-87e27e8fbbd1>\u001b[0m in \u001b[0;36m<module>\u001b[0;34m\u001b[0m\n\u001b[0;32m----> 1\u001b[0;31m \u001b[0mNeuralNetwork\u001b[0m\u001b[0;34m.\u001b[0m\u001b[0mfeedforward\u001b[0m\u001b[0;34m(\u001b[0m\u001b[0mNeuralNetwork\u001b[0m\u001b[0;34m(\u001b[0m\u001b[0;34m)\u001b[0m\u001b[0;34m,\u001b[0m\u001b[0mnp\u001b[0m\u001b[0;34m.\u001b[0m\u001b[0mrandom\u001b[0m\u001b[0;34m.\u001b[0m\u001b[0mrandom\u001b[0m\u001b[0;34m(\u001b[0m\u001b[0;36m420\u001b[0m\u001b[0;34m)\u001b[0m\u001b[0;34m,\u001b[0m\u001b[0;36m0\u001b[0m\u001b[0;34m,\u001b[0m\u001b[0;36m420\u001b[0m\u001b[0;34m)\u001b[0m\u001b[0;34m\u001b[0m\u001b[0;34m\u001b[0m\u001b[0m\n\u001b[0m\u001b[1;32m      2\u001b[0m \u001b[0mprint\u001b[0m\u001b[0;34m(\u001b[0m\u001b[0mtraining_inputs\u001b[0m\u001b[0;34m[\u001b[0m\u001b[0;36m0\u001b[0m\u001b[0;34m:\u001b[0m\u001b[0;36m5\u001b[0m\u001b[0;34m]\u001b[0m\u001b[0;34m)\u001b[0m\u001b[0;34m\u001b[0m\u001b[0;34m\u001b[0m\u001b[0m\n\u001b[1;32m      3\u001b[0m \u001b[0mprint\u001b[0m\u001b[0;34m(\u001b[0m\u001b[0mtraining_inputs\u001b[0m\u001b[0;34m.\u001b[0m\u001b[0mshape\u001b[0m\u001b[0;34m)\u001b[0m\u001b[0;34m\u001b[0m\u001b[0;34m\u001b[0m\u001b[0m\n\u001b[1;32m      4\u001b[0m \u001b[0mnetwork\u001b[0m\u001b[0;34m.\u001b[0m\u001b[0mweights\u001b[0m\u001b[0;34m.\u001b[0m\u001b[0mshape\u001b[0m\u001b[0;34m\u001b[0m\u001b[0;34m\u001b[0m\u001b[0m\n",
      "\u001b[0;32m<ipython-input-14-dd574c267301>\u001b[0m in \u001b[0;36mfeedforward\u001b[0;34m(self, inputs, bot, top)\u001b[0m\n\u001b[1;32m     40\u001b[0m \u001b[0;34m\u001b[0m\u001b[0m\n\u001b[1;32m     41\u001b[0m     \u001b[0;32mdef\u001b[0m \u001b[0mfeedforward\u001b[0m\u001b[0;34m(\u001b[0m\u001b[0mself\u001b[0m\u001b[0;34m,\u001b[0m \u001b[0minputs\u001b[0m\u001b[0;34m,\u001b[0m \u001b[0mbot\u001b[0m\u001b[0;34m,\u001b[0m \u001b[0mtop\u001b[0m\u001b[0;34m)\u001b[0m\u001b[0;34m:\u001b[0m\u001b[0;34m\u001b[0m\u001b[0;34m\u001b[0m\u001b[0m\n\u001b[0;32m---> 42\u001b[0;31m         \u001b[0moutput\u001b[0m \u001b[0;34m=\u001b[0m \u001b[0mself\u001b[0m\u001b[0;34m.\u001b[0m\u001b[0msigmoid\u001b[0m\u001b[0;34m(\u001b[0m\u001b[0mnp\u001b[0m\u001b[0;34m.\u001b[0m\u001b[0mdot\u001b[0m\u001b[0;34m(\u001b[0m\u001b[0minputs\u001b[0m\u001b[0;34m[\u001b[0m\u001b[0mbot\u001b[0m\u001b[0;34m:\u001b[0m\u001b[0mtop\u001b[0m\u001b[0;34m,\u001b[0m\u001b[0;34m:\u001b[0m\u001b[0;34m]\u001b[0m\u001b[0;34m,\u001b[0m \u001b[0mself\u001b[0m\u001b[0;34m.\u001b[0m\u001b[0mweights\u001b[0m\u001b[0;34m[\u001b[0m\u001b[0mbot\u001b[0m\u001b[0;34m:\u001b[0m\u001b[0mtop\u001b[0m\u001b[0;34m,\u001b[0m\u001b[0;34m:\u001b[0m\u001b[0;34m]\u001b[0m\u001b[0;34m)\u001b[0m\u001b[0;34m)\u001b[0m\u001b[0;34m\u001b[0m\u001b[0;34m\u001b[0m\u001b[0m\n\u001b[0m\u001b[1;32m     43\u001b[0m         \u001b[0mprint\u001b[0m\u001b[0;34m(\u001b[0m\u001b[0;34mf'outputshape{output.shape}'\u001b[0m\u001b[0;34m)\u001b[0m\u001b[0;34m\u001b[0m\u001b[0;34m\u001b[0m\u001b[0m\n\u001b[1;32m     44\u001b[0m         \u001b[0;32mreturn\u001b[0m \u001b[0moutput\u001b[0m\u001b[0;34m\u001b[0m\u001b[0;34m\u001b[0m\u001b[0m\n",
      "\u001b[0;31mIndexError\u001b[0m: too many indices for array: array is 1-dimensional, but 2 were indexed"
     ]
    }
   ],
   "source": [
    "NeuralNetwork.feedforward(NeuralNetwork(),np.random.random(420),0,420)\n",
    "print(training_inputs[0:5])\n",
    "print(training_inputs.shape)\n",
    "network.weights.shape"
   ]
  },
  {
   "cell_type": "code",
   "execution_count": null,
   "metadata": {},
   "outputs": [
    {
     "name": "stdout",
     "output_type": "stream",
     "text": [
      "Beginning Randomly Generated Weights: \n",
      "[[-0.166   0.4407 -1.     ...  0.9507 -0.3594  0.965 ]\n",
      " [ 0.2727 -0.2499  0.715  ... -0.643   0.94    0.484 ]\n",
      " [-0.4805  0.1625  0.9106 ...  0.3965 -0.7065  0.225 ]\n",
      " [-0.4414  0.8315 -0.6035 ... -0.873   0.1686 -0.3286]\n",
      " [ 0.7637  0.7476  0.975  ...  0.1312  0.281   0.5356]]\n",
      "0\n",
      "(105, 784)\n",
      "105\n",
      "(105,)\n",
      "105\n",
      "(105, 784)\n",
      "210\n",
      "(105,)\n",
      "210\n",
      "(105, 784)\n",
      "315\n",
      "(105,)\n",
      "315\n",
      "(105, 784)\n",
      "420\n",
      "(105,)\n",
      " Go process 18785!\n",
      " Go process 20220!\n",
      "outputshape[] Go process 16421!\n",
      "\n",
      "train (420,)\n",
      "outputs (0, 0)\n",
      "outputshape[]"
     ]
    },
    {
     "name": "stderr",
     "output_type": "stream",
     "text": [
      "Process Process-2:\n"
     ]
    },
    {
     "name": "stdout",
     "output_type": "stream",
     "text": [
      "outputshape[]\n",
      "train (420,)"
     ]
    },
    {
     "name": "stderr",
     "output_type": "stream",
     "text": [
      "Traceback (most recent call last):\n"
     ]
    },
    {
     "name": "stdout",
     "output_type": "stream",
     "text": [
      "\n",
      "outputs (0, 0)"
     ]
    },
    {
     "name": "stderr",
     "output_type": "stream",
     "text": [
      "  File \"/usr/pkg/lib/python3.8/multiprocessing/process.py\", line 315, in _bootstrap\n",
      "    self.run()\n"
     ]
    },
    {
     "name": "stdout",
     "output_type": "stream",
     "text": [
      "\n"
     ]
    },
    {
     "name": "stderr",
     "output_type": "stream",
     "text": [
      "  File \"/usr/pkg/lib/python3.8/multiprocessing/process.py\", line 108, in run\n",
      "    self._target(*self._args, **self._kwargs)\n",
      "Process Process-4:\n",
      "  File \"<ipython-input-3-366873a3bf23>\", line 31, in train\n",
      "    error = training_outputs - output.T\n"
     ]
    },
    {
     "name": "stdout",
     "output_type": "stream",
     "text": [
      "\n",
      "train (420,)"
     ]
    },
    {
     "name": "stderr",
     "output_type": "stream",
     "text": [
      "ValueError: operands could not be broadcast together with shapes (420,) (0,0) \n",
      "Traceback (most recent call last):\n"
     ]
    },
    {
     "name": "stdout",
     "output_type": "stream",
     "text": [
      "\n",
      "outputs (0, 0)"
     ]
    },
    {
     "name": "stderr",
     "output_type": "stream",
     "text": [
      "  File \"/usr/pkg/lib/python3.8/multiprocessing/process.py\", line 315, in _bootstrap\n",
      "    self.run()\n"
     ]
    },
    {
     "name": "stdout",
     "output_type": "stream",
     "text": [
      "\n"
     ]
    },
    {
     "name": "stderr",
     "output_type": "stream",
     "text": [
      "  File \"/usr/pkg/lib/python3.8/multiprocessing/process.py\", line 108, in run\n",
      "    self._target(*self._args, **self._kwargs)\n",
      "Process Process-3:\n",
      "  File \"<ipython-input-3-366873a3bf23>\", line 31, in train\n",
      "    error = training_outputs - output.T\n",
      "ValueError: operands could not be broadcast together with shapes (420,) (0,0) \n",
      "Traceback (most recent call last):\n",
      "  File \"/usr/pkg/lib/python3.8/multiprocessing/process.py\", line 315, in _bootstrap\n",
      "    self.run()\n",
      "  File \"/usr/pkg/lib/python3.8/multiprocessing/process.py\", line 108, in run\n",
      "    self._target(*self._args, **self._kwargs)\n",
      "  File \"<ipython-input-3-366873a3bf23>\", line 31, in train\n",
      "    error = training_outputs - output.T\n",
      "ValueError: operands could not be broadcast together with shapes (420,) (0,0) \n"
     ]
    },
    {
     "name": "stdout",
     "output_type": "stream",
     "text": [
      " Go process 20521!\n",
      "[[-0.166    0.4407  -1.      ...  0.9507  -0.3594   0.965  ]\n",
      " [ 0.2727  -0.2499   0.715   ... -0.643    0.94     0.484  ]\n",
      " [-0.4805   0.1625   0.9106  ...  0.3965  -0.7065   0.225  ]\n",
      " ...\n",
      " [-0.8867  -0.4854   0.749   ... -0.1747   0.887   -0.756  ]\n",
      " [ 0.3054  -0.55     0.7065  ...  0.5493  -0.755    0.577  ]\n",
      " [-0.5205   0.2505   0.3389  ... -0.2576  -0.00979  0.4426 ]]\n"
     ]
    }
   ],
   "source": [
    "X_train, X_test, y_train, y_test = train_test_split(inputs,outputs,test_size=testsize)\n",
    "\n",
    "if __name__ == \"__main__\":\n",
    "\n",
    "    #initializing the neuron class\n",
    "    network = NeuralNetwork()\n",
    "\n",
    "    print(\"Beginning Randomly Generated Weights: \")\n",
    "    print(network.weights[0:5])\n",
    "\n",
    "    #training data consisting of 4 examples--3 input values and 1 output\n",
    "    training_inputs = X_train# np.random.random((3,5))#\n",
    "    training_outputs = y_train.T # np.array([1,2,3])#\n",
    "    iterations = 1\n",
    "\n",
    "    jobs= []\n",
    "    procs= 4#cpu_count()\n",
    "    pipes = []\n",
    "    #training taking place\n",
    "    for i in range(0, procs):\n",
    "        pipes.append(Pipe()) # [Parent,Child]\n",
    "        bot = i*int(training_inputs.shape[0]/procs)\n",
    "        top = (i+1)*int(training_inputs.shape[0]/procs)\n",
    "        print(bot)\n",
    "        print(training_inputs[bot:top,:].shape)\n",
    "        \n",
    "        print(top)\n",
    "        print(training_outputs[bot:top].shape)\n",
    "        process = Process(target=network.train,\n",
    "                          args=(training_inputs,\n",
    "                                training_outputs,\n",
    "                                bot,\n",
    "                                top,\n",
    "                                iterations,\n",
    "                                pipes[i]))\n",
    "        jobs.append(process)\n",
    "    \n",
    "    \n",
    "    # Start the processes\n",
    "    for j in jobs:\n",
    "        j.start()\n",
    "        print(f' Go process {j.pid}!')\n",
    "\n",
    "    # Ensure all of the processes have finished\n",
    "    i = 0\n",
    "    for j in jobs:\n",
    "        bot = i*int(training_inputs.shape[0]/procs)\n",
    "        top = (i+1)*int(training_inputs.shape[0]/procs)\n",
    "        out = pipes[i][0].recv()\n",
    "        print(out)\n",
    "        #network.weights[:,bot:top] = out\n",
    "        i = i + 1\n",
    "        j.join()\n",
    "\n",
    "\n",
    "    print(\"Ending Weights After Training: \")\n",
    "    print(network.weights[0:5])"
   ]
  },
  {
   "cell_type": "code",
   "execution_count": 6,
   "metadata": {},
   "outputs": [
    {
     "name": "stdout",
     "output_type": "stream",
     "text": [
      "(4, 3)\n",
      "(3,)\n"
     ]
    },
    {
     "data": {
      "text/plain": [
       "array([[0, 0, 0],\n",
       "       [1, 1, 1],\n",
       "       [2, 2, 2],\n",
       "       [3, 3, 3]])"
      ]
     },
     "execution_count": 6,
     "metadata": {},
     "output_type": "execute_result"
    }
   ],
   "source": [
    "import numpy as np\n",
    "a = np.array([[1,1,1],[2,2,2],[3,3,3],[4,4,4]])\n",
    "b = np.array([-1,-1,-1])\n",
    "print(a.shape)\n",
    "print(b.shape)\n",
    "a + b"
   ]
  },
  {
   "cell_type": "code",
   "execution_count": null,
   "metadata": {},
   "outputs": [],
   "source": []
  },
  {
   "cell_type": "code",
   "execution_count": null,
   "metadata": {},
   "outputs": [],
   "source": []
  }
 ],
 "metadata": {
  "kernelspec": {
   "display_name": "Python 3",
   "language": "python",
   "name": "python3"
  },
  "language_info": {
   "codemirror_mode": {
    "name": "ipython",
    "version": 3
   },
   "file_extension": ".py",
   "mimetype": "text/x-python",
   "name": "python",
   "nbconvert_exporter": "python",
   "pygments_lexer": "ipython3",
   "version": "3.8.6"
  }
 },
 "nbformat": 4,
 "nbformat_minor": 4
}
